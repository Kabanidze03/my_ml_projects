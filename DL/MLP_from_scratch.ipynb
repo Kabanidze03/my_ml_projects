{
  "nbformat": 4,
  "nbformat_minor": 0,
  "metadata": {
    "colab": {
      "provenance": []
    },
    "kernelspec": {
      "name": "python3",
      "display_name": "Python 3"
    },
    "language_info": {
      "name": "python"
    }
  },
  "cells": [
    {
      "cell_type": "markdown",
      "source": [
        "## ***Formulas***"
      ],
      "metadata": {
        "id": "t-APmQUx1Vja"
      }
    },
    {
      "cell_type": "markdown",
      "source": [
        "$\\textbf{X} \\in \\mathbb{R}^{m \\times n}; \\quad \\textbf{W} \\in \\mathbb{R}^{h \\times n}; \\quad \\textbf{b}_1 \\in \\mathbb{R}^{h \\times 1}$\n",
        "\n",
        "$\\textbf{ReLU}\\{\\textbf{W} \\cdot \\textbf{X}^\\text{T} + \\textbf{b}_1\\} = \\textbf{H} \\in \\mathbb{R}^{h \\times m}$"
      ],
      "metadata": {
        "id": "0bwQd2CKP5Ll"
      }
    },
    {
      "cell_type": "markdown",
      "source": [
        "$\\textbf{U} \\in \\mathbb{R}^{10 \\times h}; \\quad \\textbf{b}_2 \\in \\mathbb{R}^{10 \\times 1}$\n",
        "\n",
        "$\\textbf{U} \\cdot \\textbf{H} + \\textbf{b}_2 = \\textbf{O} \\in \\mathbb{R}^{10 \\times m}$"
      ],
      "metadata": {
        "id": "-RZzkC4qWwl1"
      }
    },
    {
      "cell_type": "markdown",
      "source": [
        "$\\textbf{P} = \\textbf{softmax}(O, \\text{axis}=0)$\n",
        "\n",
        "$\\text{classes} = \\textbf{argmax}(\\textbf{P}, \\text{axis}=0)$"
      ],
      "metadata": {
        "id": "JwZqfoORXdki"
      }
    },
    {
      "cell_type": "markdown",
      "source": [
        "## ***Import libraries***"
      ],
      "metadata": {
        "id": "VYp0yX-51c9z"
      }
    },
    {
      "cell_type": "code",
      "execution_count": null,
      "metadata": {
        "id": "pll4CFK3PRpi"
      },
      "outputs": [],
      "source": [
        "import numpy as np\n",
        "import pandas as pd\n",
        "import matplotlib.pyplot as plt\n",
        "import seaborn as sns\n",
        "from tqdm import tqdm\n",
        "from sklearn.model_selection import train_test_split\n",
        "from sklearn.metrics import accuracy_score\n",
        "from keras.datasets import mnist"
      ]
    },
    {
      "cell_type": "code",
      "source": [
        "custom = {\"axes.edgecolor\": \"black\", \"grid.linestyle\": \"dashed\", \"grid.color\": \"gray\"}\n",
        "sns.set_style(\"darkgrid\", rc = custom)"
      ],
      "metadata": {
        "id": "5hPZxHOqTImQ"
      },
      "execution_count": null,
      "outputs": []
    },
    {
      "cell_type": "markdown",
      "source": [
        "## ***Import data MNIST***"
      ],
      "metadata": {
        "id": "InOK81Uc1iRP"
      }
    },
    {
      "cell_type": "code",
      "source": [
        "(X_train, y_train), (X_test, y_test) = mnist.load_data()"
      ],
      "metadata": {
        "colab": {
          "base_uri": "https://localhost:8080/"
        },
        "id": "gtyTXCOCTMwL",
        "outputId": "52b03cd8-0741-40f5-f48a-8bd081a63e7c"
      },
      "execution_count": null,
      "outputs": [
        {
          "output_type": "stream",
          "name": "stdout",
          "text": [
            "Downloading data from https://storage.googleapis.com/tensorflow/tf-keras-datasets/mnist.npz\n",
            "11490434/11490434 [==============================] - 0s 0us/step\n"
          ]
        }
      ]
    },
    {
      "cell_type": "code",
      "source": [
        "y_train[0:10]"
      ],
      "metadata": {
        "colab": {
          "base_uri": "https://localhost:8080/"
        },
        "id": "vd_LRXKmn5sk",
        "outputId": "f4bfa70e-62c0-40da-bfb5-8d671bbc019e"
      },
      "execution_count": null,
      "outputs": [
        {
          "output_type": "execute_result",
          "data": {
            "text/plain": [
              "array([5, 0, 4, 1, 9, 2, 1, 3, 1, 4], dtype=uint8)"
            ]
          },
          "metadata": {},
          "execution_count": 4
        }
      ]
    },
    {
      "cell_type": "code",
      "source": [
        "X_train = X_train.reshape(X_train.shape[0], -1) / 255.0\n",
        "X_test = X_test.reshape(X_test.shape[0], -1) / 255.0"
      ],
      "metadata": {
        "id": "aeFva-YNTYu0"
      },
      "execution_count": null,
      "outputs": []
    },
    {
      "cell_type": "code",
      "source": [
        "def plot_img(img, label):\n",
        "    fig = plt.figure(figsize=(3, 3))\n",
        "    plt.imshow(img.reshape(28, 28))\n",
        "    plt.xticks([])\n",
        "    plt.yticks([])\n",
        "    plt.title(label)"
      ],
      "metadata": {
        "id": "Vbqbz4P9U4MR"
      },
      "execution_count": null,
      "outputs": []
    },
    {
      "cell_type": "code",
      "source": [
        "plot_img(X_train[0], f'label: {y_train[0]}')"
      ],
      "metadata": {
        "colab": {
          "base_uri": "https://localhost:8080/",
          "height": 290
        },
        "id": "Ll4F4UoCVx5y",
        "outputId": "24cadfab-c53d-4910-e218-c73aa852978f"
      },
      "execution_count": null,
      "outputs": [
        {
          "output_type": "display_data",
          "data": {
            "text/plain": [
              "<Figure size 300x300 with 1 Axes>"
            ],
            "image/png": "[encoded data removed]"
          },
          "metadata": {}
        }
      ]
    },
    {
      "cell_type": "markdown",
      "source": [
        "## ***Create network structure***"
      ],
      "metadata": {
        "id": "3oVsORFC1oEO"
      }
    },
    {
      "cell_type": "code",
      "source": [
        "class Net:\n",
        "    def __init__(self, input_dim, hidden_dim, output_dim, lr, epochs, bs):\n",
        "        self.input_dim = input_dim\n",
        "        self.hidden_dim = hidden_dim\n",
        "        self.output_dim = output_dim\n",
        "        self.lr = lr\n",
        "        self.epochs = epochs\n",
        "        self.bs = bs\n",
        "\n",
        "        self.W1 = np.random.randn(self.hidden_dim, self.input_dim) * np.sqrt(2. / self.input_dim)\n",
        "        self.b1 = np.random.randn(self.hidden_dim, 1)\n",
        "        self.W2 = np.random.randn(10, self.hidden_dim) * np.sqrt(2. / self.hidden_dim)\n",
        "        self.b2 = np.random.randn(10, 1)\n",
        "\n",
        "    def forward(self, X, train=False):\n",
        "        H1 = self.W1 @ X.T + self.b1\n",
        "        H1_act = self.ReLU(H1)\n",
        "\n",
        "        H2 = self.W2 @ H1_act + self.b2\n",
        "        H2_act = self.softmax(H2)\n",
        "\n",
        "        if train:\n",
        "            return H1, H1_act, H2, H2_act\n",
        "\n",
        "        return H2_act\n",
        "\n",
        "    def backward(self, H1, H1_act, H2, H2_act, one_hot_y, X):\n",
        "        r, _ = X.shape\n",
        "\n",
        "        dL_H2 = H2_act - one_hot_y.T  # output_dim x batch_size\n",
        "\n",
        "        dW2 = dL_H2 @ H1_act.T / r  # output_dim x hidden_dim\n",
        "        db2 = np.sum(dL_H2, axis=1, keepdims=True) / r  # output_dim x 1\n",
        "\n",
        "        dH1 = (self.W2.T @ dL_H2) * (H1 > 0)  # hidden_dim x batch_size\n",
        "        dW1 = dH1 @ X / r  # hidden_dim x input_dim\n",
        "        db1 = np.sum(dH1, axis=1, keepdims=True) / r  # hidden_dim x 1\n",
        "\n",
        "        self.W1 -= dW1 * self.lr\n",
        "        self.W2 -= dW2 * self.lr\n",
        "        self.b1 -= db1 * self.lr\n",
        "        self.b2 -= db2 * self.lr\n",
        "\n",
        "    def fit(self, X, y):\n",
        "        for epoch in range(self.epochs):\n",
        "            epoch_loss = 0\n",
        "            for i in range(self.bs, X.shape[0], self.bs):\n",
        "                X_batch = X[i-self.bs:i]\n",
        "                y_batch = y[i-self.bs:i].reshape(-1, 1)\n",
        "\n",
        "                H1, H1_act, H2, H2_act = self.forward(X_batch, train=True)\n",
        "\n",
        "                one_hot_y = self.one_hot(y_batch)\n",
        "\n",
        "                loss = self.compute_loss(one_hot_y, H2_act)\n",
        "                epoch_loss += loss\n",
        "\n",
        "                self.backward(H1, H1_act, H2, H2_act, one_hot_y, X_batch)\n",
        "\n",
        "            if epoch == self.epochs - 1:\n",
        "                print(\"\")\n",
        "\n",
        "            print(f\"loss: {epoch_loss / (X.shape[0] // self.bs)}\\n\")\n",
        "\n",
        "    def predict(self, X_test):\n",
        "        y_pred = self.forward(X_test)\n",
        "        return np.argmax(y_pred, axis=0)\n",
        "\n",
        "    def ReLU(self, x):\n",
        "        return np.maximum(0, x)\n",
        "\n",
        "    def softmax(self, x):\n",
        "        exp_x = np.exp(x - np.max(x, axis=0, keepdims=True))\n",
        "        return exp_x / np.sum(exp_x, axis=0, keepdims=True)\n",
        "\n",
        "    def one_hot(self, y):\n",
        "        one_hot_y = np.zeros((y.size, self.output_dim))\n",
        "        one_hot_y[np.arange(y.size), y.flatten()] = 1\n",
        "\n",
        "        return one_hot_y\n",
        "\n",
        "    def compute_loss(self, y_true, y_pred):\n",
        "        return -np.sum(y_true * np.log(y_pred.T + 1e-9)) / y_true.shape[0]"
      ],
      "metadata": {
        "id": "Hf-ti9q8WVWP"
      },
      "execution_count": null,
      "outputs": []
    },
    {
      "cell_type": "code",
      "source": [
        "input_dim = 784\n",
        "hidden_dim = 512\n",
        "output_dim = np.unique(y_train).shape[0]\n",
        "lr = 0.1\n",
        "epochs = 5\n",
        "bs = 32"
      ],
      "metadata": {
        "id": "-E92J7kie5zZ"
      },
      "execution_count": null,
      "outputs": []
    },
    {
      "cell_type": "code",
      "source": [
        "model = Net(input_dim, hidden_dim, output_dim, lr, epochs, bs)"
      ],
      "metadata": {
        "id": "HejKNHUihEVr"
      },
      "execution_count": null,
      "outputs": []
    },
    {
      "cell_type": "markdown",
      "source": [
        "## ***Create train process***"
      ],
      "metadata": {
        "id": "jBOtXJlH2gyy"
      }
    },
    {
      "cell_type": "code",
      "source": [
        "model.fit(X_train, y_train)"
      ],
      "metadata": {
        "colab": {
          "base_uri": "https://localhost:8080/"
        },
        "id": "mri91D562pPG",
        "outputId": "31ce9073-3017-4c4b-91fc-0543f4c45e3c"
      },
      "execution_count": null,
      "outputs": [
        {
          "output_type": "stream",
          "name": "stdout",
          "text": [
            "loss: 0.3000913186259314\n",
            "\n",
            "loss: 0.13419676657965082\n",
            "\n",
            "loss: 0.09302563186224966\n",
            "\n",
            "loss: 0.07093867537620505\n",
            "\n",
            "\n",
            "loss: 0.05645416048461488\n",
            "\n"
          ]
        }
      ]
    },
    {
      "cell_type": "markdown",
      "source": [
        "## ***Prediction of model***"
      ],
      "metadata": {
        "id": "qd4pF7362qWx"
      }
    },
    {
      "cell_type": "code",
      "source": [
        "y_pred = model.predict(X_test)\n",
        "print(f'Accuracy = {accuracy_score(y_test, y_pred)}')"
      ],
      "metadata": {
        "colab": {
          "base_uri": "https://localhost:8080/"
        },
        "id": "RB8o7Pz7i17i",
        "outputId": "7a8020bb-474e-45e0-cab4-5b395496210b"
      },
      "execution_count": null,
      "outputs": [
        {
          "output_type": "stream",
          "name": "stdout",
          "text": [
            "Accuracy = 0.9755\n"
          ]
        }
      ]
    }
  ]
}
