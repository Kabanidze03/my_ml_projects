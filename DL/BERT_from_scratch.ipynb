{
  "nbformat": 4,
  "nbformat_minor": 0,
  "metadata": {
    "colab": {
      "provenance": [],
      "gpuType": "T4"
    },
    "kernelspec": {
      "name": "python3",
      "display_name": "Python 3"
    },
    "language_info": {
      "name": "python"
    },
    "accelerator": "GPU"
  },
  "cells": [
    {
      "cell_type": "code",
      "source": [
        "from google.colab import drive\n",
        "drive.mount('/content/drive')"
      ],
      "metadata": {
        "colab": {
          "base_uri": "https://localhost:8080/"
        },
        "id": "LPtzApXakLnI",
        "outputId": "ccbf21a3-9f0b-4235-bc81-13e23e73a553"
      },
      "execution_count": 5,
      "outputs": [
        {
          "output_type": "stream",
          "name": "stdout",
          "text": [
            "Mounted at /content/drive\n"
          ]
        }
      ]
    },
    {
      "cell_type": "code",
      "execution_count": 68,
      "metadata": {
        "id": "vECtDyCwclXJ"
      },
      "outputs": [],
      "source": [
        "import re\n",
        "import math\n",
        "import torch\n",
        "import random\n",
        "import shutil\n",
        "import collections\n",
        "import transformers\n",
        "import numpy as np\n",
        "import pandas as pd\n",
        "import torch.nn as nn\n",
        "import seaborn as sns\n",
        "import matplotlib.pyplot as plt\n",
        "from tqdm import tqdm\n",
        "from transformers import AutoTokenizer\n",
        "from sklearn.metrics import roc_auc_score\n",
        "from torch.nn.utils import clip_grad_norm_\n",
        "from torch.optim import AdamW, lr_scheduler\n",
        "from torch.utils.data import Dataset, DataLoader\n",
        "from sklearn.model_selection import train_test_split\n",
        "from transformers import get_cosine_schedule_with_warmup\n",
        "from torch.nn.utils.rnn import pack_padded_sequence, pad_packed_sequence"
      ]
    },
    {
      "cell_type": "code",
      "source": [
        "device = torch.device('cuda' if torch.cuda.is_available() else 'cpu')\n",
        "device"
      ],
      "metadata": {
        "colab": {
          "base_uri": "https://localhost:8080/"
        },
        "id": "6aEB-QwHc38-",
        "outputId": "5bda5415-5c19-4ee8-8d5a-f258224dc9c7"
      },
      "execution_count": 7,
      "outputs": [
        {
          "output_type": "execute_result",
          "data": {
            "text/plain": [
              "device(type='cuda')"
            ]
          },
          "metadata": {},
          "execution_count": 7
        }
      ]
    },
    {
      "cell_type": "code",
      "source": [
        "tokenizer = AutoTokenizer.from_pretrained('bert-base-uncased')"
      ],
      "metadata": {
        "id": "2RdLWTlW26xj"
      },
      "execution_count": 8,
      "outputs": []
    },
    {
      "cell_type": "markdown",
      "source": [
        "### $\\text{Preparing data}$"
      ],
      "metadata": {
        "id": "Ok60J_Kik73a"
      }
    },
    {
      "cell_type": "code",
      "source": [
        "data = pd.read_csv('/content/drive/MyDrive/IMDB Dataset.csv')"
      ],
      "metadata": {
        "id": "umLQpWfxgBn4"
      },
      "execution_count": 9,
      "outputs": []
    },
    {
      "cell_type": "code",
      "source": [
        "data"
      ],
      "metadata": {
        "colab": {
          "base_uri": "https://localhost:8080/",
          "height": 423
        },
        "id": "C-dR9Qblkzx_",
        "outputId": "ececa1a2-fd15-497a-c213-e442a4c5a576"
      },
      "execution_count": 10,
      "outputs": [
        {
          "output_type": "execute_result",
          "data": {
            "text/plain": [
              "                                                  review sentiment\n",
              "0      One of the other reviewers has mentioned that ...  positive\n",
              "1      A wonderful little production. <br /><br />The...  positive\n",
              "2      I thought this was a wonderful way to spend ti...  positive\n",
              "3      Basically there's a family where a little boy ...  negative\n",
              "4      Petter Mattei's \"Love in the Time of Money\" is...  positive\n",
              "...                                                  ...       ...\n",
              "49995  I thought this movie did a down right good job...  positive\n",
              "49996  Bad plot, bad dialogue, bad acting, idiotic di...  negative\n",
              "49997  I am a Catholic taught in parochial elementary...  negative\n",
              "49998  I'm going to have to disagree with the previou...  negative\n",
              "49999  No one expects the Star Trek movies to be high...  negative\n",
              "\n",
              "[50000 rows x 2 columns]"
            ],
            "text/html": [
              "\n",
              "  <div id=\"df-4a6f2cb4-fdec-4626-b0a6-8701765bee1a\" class=\"colab-df-container\">\n",
              "    <div>\n",
              "<style scoped>\n",
              "    .dataframe tbody tr th:only-of-type {\n",
              "        vertical-align: middle;\n",
              "    }\n",
              "\n",
              "    .dataframe tbody tr th {\n",
              "        vertical-align: top;\n",
              "    }\n",
              "\n",
              "    .dataframe thead th {\n",
              "        text-align: right;\n",
              "    }\n",
              "</style>\n",
              "<table border=\"1\" class=\"dataframe\">\n",
              "  <thead>\n",
              "    <tr style=\"text-align: right;\">\n",
              "      <th></th>\n",
              "      <th>review</th>\n",
              "      <th>sentiment</th>\n",
              "    </tr>\n",
              "  </thead>\n",
              "  <tbody>\n",
              "    <tr>\n",
              "      <th>0</th>\n",
              "      <td>One of the other reviewers has mentioned that ...</td>\n",
              "      <td>positive</td>\n",
              "    </tr>\n",
              "    <tr>\n",
              "      <th>1</th>\n",
              "      <td>A wonderful little production. &lt;br /&gt;&lt;br /&gt;The...</td>\n",
              "      <td>positive</td>\n",
              "    </tr>\n",
              "    <tr>\n",
              "      <th>2</th>\n",
              "      <td>I thought this was a wonderful way to spend ti...</td>\n",
              "      <td>positive</td>\n",
              "    </tr>\n",
              "    <tr>\n",
              "      <th>3</th>\n",
              "      <td>Basically there's a family where a little boy ...</td>\n",
              "      <td>negative</td>\n",
              "    </tr>\n",
              "    <tr>\n",
              "      <th>4</th>\n",
              "      <td>Petter Mattei's \"Love in the Time of Money\" is...</td>\n",
              "      <td>positive</td>\n",
              "    </tr>\n",
              "    <tr>\n",
              "      <th>...</th>\n",
              "      <td>...</td>\n",
              "      <td>...</td>\n",
              "    </tr>\n",
              "    <tr>\n",
              "      <th>49995</th>\n",
              "      <td>I thought this movie did a down right good job...</td>\n",
              "      <td>positive</td>\n",
              "    </tr>\n",
              "    <tr>\n",
              "      <th>49996</th>\n",
              "      <td>Bad plot, bad dialogue, bad acting, idiotic di...</td>\n",
              "      <td>negative</td>\n",
              "    </tr>\n",
              "    <tr>\n",
              "      <th>49997</th>\n",
              "      <td>I am a Catholic taught in parochial elementary...</td>\n",
              "      <td>negative</td>\n",
              "    </tr>\n",
              "    <tr>\n",
              "      <th>49998</th>\n",
              "      <td>I'm going to have to disagree with the previou...</td>\n",
              "      <td>negative</td>\n",
              "    </tr>\n",
              "    <tr>\n",
              "      <th>49999</th>\n",
              "      <td>No one expects the Star Trek movies to be high...</td>\n",
              "      <td>negative</td>\n",
              "    </tr>\n",
              "  </tbody>\n",
              "</table>\n",
              "<p>50000 rows × 2 columns</p>\n",
              "</div>\n",
              "    <div class=\"colab-df-buttons\">\n",
              "\n",
              "  <div class=\"colab-df-container\">\n",
              "    <button class=\"colab-df-convert\" onclick=\"convertToInteractive('df-4a6f2cb4-fdec-4626-b0a6-8701765bee1a')\"\n",
              "            title=\"Convert this dataframe to an interactive table.\"\n",
              "            style=\"display:none;\">\n",
              "\n",
              "  <svg xmlns=\"http://www.w3.org/2000/svg\" height=\"24px\" viewBox=\"0 -960 960 960\">\n",
              "    <path d=\"M120-120v-720h720v720H120Zm60-500h600v-160H180v160Zm220 220h160v-160H400v160Zm0 220h160v-160H400v160ZM180-400h160v-160H180v160Zm440 0h160v-160H620v160ZM180-180h160v-160H180v160Zm440 0h160v-160H620v160Z\"/>\n",
              "  </svg>\n",
              "    </button>\n",
              "\n",
              "  <style>\n",
              "    .colab-df-container {\n",
              "      display:flex;\n",
              "      gap: 12px;\n",
              "    }\n",
              "\n",
              "    .colab-df-convert {\n",
              "      background-color: #E8F0FE;\n",
              "      border: none;\n",
              "      border-radius: 50%;\n",
              "      cursor: pointer;\n",
              "      display: none;\n",
              "      fill: #1967D2;\n",
              "      height: 32px;\n",
              "      padding: 0 0 0 0;\n",
              "      width: 32px;\n",
              "    }\n",
              "\n",
              "    .colab-df-convert:hover {\n",
              "      background-color: #E2EBFA;\n",
              "      box-shadow: 0px 1px 2px rgba(60, 64, 67, 0.3), 0px 1px 3px 1px rgba(60, 64, 67, 0.15);\n",
              "      fill: #174EA6;\n",
              "    }\n",
              "\n",
              "    .colab-df-buttons div {\n",
              "      margin-bottom: 4px;\n",
              "    }\n",
              "\n",
              "    [theme=dark] .colab-df-convert {\n",
              "      background-color: #3B4455;\n",
              "      fill: #D2E3FC;\n",
              "    }\n",
              "\n",
              "    [theme=dark] .colab-df-convert:hover {\n",
              "      background-color: #434B5C;\n",
              "      box-shadow: 0px 1px 3px 1px rgba(0, 0, 0, 0.15);\n",
              "      filter: drop-shadow(0px 1px 2px rgba(0, 0, 0, 0.3));\n",
              "      fill: #FFFFFF;\n",
              "    }\n",
              "  </style>\n",
              "\n",
              "    <script>\n",
              "      const buttonEl =\n",
              "        document.querySelector('#df-4a6f2cb4-fdec-4626-b0a6-8701765bee1a button.colab-df-convert');\n",
              "      buttonEl.style.display =\n",
              "        google.colab.kernel.accessAllowed ? 'block' : 'none';\n",
              "\n",
              "      async function convertToInteractive(key) {\n",
              "        const element = document.querySelector('#df-4a6f2cb4-fdec-4626-b0a6-8701765bee1a');\n",
              "        const dataTable =\n",
              "          await google.colab.kernel.invokeFunction('convertToInteractive',\n",
              "                                                    [key], {});\n",
              "        if (!dataTable) return;\n",
              "\n",
              "        const docLinkHtml = 'Like what you see? Visit the ' +\n",
              "          '<a target=\"_blank\" href=https://colab.research.google.com/notebooks/data_table.ipynb>data table notebook</a>'\n",
              "          + ' to learn more about interactive tables.';\n",
              "        element.innerHTML = '';\n",
              "        dataTable['output_type'] = 'display_data';\n",
              "        await google.colab.output.renderOutput(dataTable, element);\n",
              "        const docLink = document.createElement('div');\n",
              "        docLink.innerHTML = docLinkHtml;\n",
              "        element.appendChild(docLink);\n",
              "      }\n",
              "    </script>\n",
              "  </div>\n",
              "\n",
              "\n",
              "    <div id=\"df-df5fb6ad-1e38-4235-9169-a3ddd7abbc55\">\n",
              "      <button class=\"colab-df-quickchart\" onclick=\"quickchart('df-df5fb6ad-1e38-4235-9169-a3ddd7abbc55')\"\n",
              "                title=\"Suggest charts\"\n",
              "                style=\"display:none;\">\n",
              "\n",
              "<svg xmlns=\"http://www.w3.org/2000/svg\" height=\"24px\"viewBox=\"0 0 24 24\"\n",
              "     width=\"24px\">\n",
              "    <g>\n",
              "        <path d=\"M19 3H5c-1.1 0-2 .9-2 2v14c0 1.1.9 2 2 2h14c1.1 0 2-.9 2-2V5c0-1.1-.9-2-2-2zM9 17H7v-7h2v7zm4 0h-2V7h2v10zm4 0h-2v-4h2v4z\"/>\n",
              "    </g>\n",
              "</svg>\n",
              "      </button>\n",
              "\n",
              "<style>\n",
              "  .colab-df-quickchart {\n",
              "      --bg-color: #E8F0FE;\n",
              "      --fill-color: #1967D2;\n",
              "      --hover-bg-color: #E2EBFA;\n",
              "      --hover-fill-color: #174EA6;\n",
              "      --disabled-fill-color: #AAA;\n",
              "      --disabled-bg-color: #DDD;\n",
              "  }\n",
              "\n",
              "  [theme=dark] .colab-df-quickchart {\n",
              "      --bg-color: #3B4455;\n",
              "      --fill-color: #D2E3FC;\n",
              "      --hover-bg-color: #434B5C;\n",
              "      --hover-fill-color: #FFFFFF;\n",
              "      --disabled-bg-color: #3B4455;\n",
              "      --disabled-fill-color: #666;\n",
              "  }\n",
              "\n",
              "  .colab-df-quickchart {\n",
              "    background-color: var(--bg-color);\n",
              "    border: none;\n",
              "    border-radius: 50%;\n",
              "    cursor: pointer;\n",
              "    display: none;\n",
              "    fill: var(--fill-color);\n",
              "    height: 32px;\n",
              "    padding: 0;\n",
              "    width: 32px;\n",
              "  }\n",
              "\n",
              "  .colab-df-quickchart:hover {\n",
              "    background-color: var(--hover-bg-color);\n",
              "    box-shadow: 0 1px 2px rgba(60, 64, 67, 0.3), 0 1px 3px 1px rgba(60, 64, 67, 0.15);\n",
              "    fill: var(--button-hover-fill-color);\n",
              "  }\n",
              "\n",
              "  .colab-df-quickchart-complete:disabled,\n",
              "  .colab-df-quickchart-complete:disabled:hover {\n",
              "    background-color: var(--disabled-bg-color);\n",
              "    fill: var(--disabled-fill-color);\n",
              "    box-shadow: none;\n",
              "  }\n",
              "\n",
              "  .colab-df-spinner {\n",
              "    border: 2px solid var(--fill-color);\n",
              "    border-color: transparent;\n",
              "    border-bottom-color: var(--fill-color);\n",
              "    animation:\n",
              "      spin 1s steps(1) infinite;\n",
              "  }\n",
              "\n",
              "  @keyframes spin {\n",
              "    0% {\n",
              "      border-color: transparent;\n",
              "      border-bottom-color: var(--fill-color);\n",
              "      border-left-color: var(--fill-color);\n",
              "    }\n",
              "    20% {\n",
              "      border-color: transparent;\n",
              "      border-left-color: var(--fill-color);\n",
              "      border-top-color: var(--fill-color);\n",
              "    }\n",
              "    30% {\n",
              "      border-color: transparent;\n",
              "      border-left-color: var(--fill-color);\n",
              "      border-top-color: var(--fill-color);\n",
              "      border-right-color: var(--fill-color);\n",
              "    }\n",
              "    40% {\n",
              "      border-color: transparent;\n",
              "      border-right-color: var(--fill-color);\n",
              "      border-top-color: var(--fill-color);\n",
              "    }\n",
              "    60% {\n",
              "      border-color: transparent;\n",
              "      border-right-color: var(--fill-color);\n",
              "    }\n",
              "    80% {\n",
              "      border-color: transparent;\n",
              "      border-right-color: var(--fill-color);\n",
              "      border-bottom-color: var(--fill-color);\n",
              "    }\n",
              "    90% {\n",
              "      border-color: transparent;\n",
              "      border-bottom-color: var(--fill-color);\n",
              "    }\n",
              "  }\n",
              "</style>\n",
              "\n",
              "      <script>\n",
              "        async function quickchart(key) {\n",
              "          const quickchartButtonEl =\n",
              "            document.querySelector('#' + key + ' button');\n",
              "          quickchartButtonEl.disabled = true;  // To prevent multiple clicks.\n",
              "          quickchartButtonEl.classList.add('colab-df-spinner');\n",
              "          try {\n",
              "            const charts = await google.colab.kernel.invokeFunction(\n",
              "                'suggestCharts', [key], {});\n",
              "          } catch (error) {\n",
              "            console.error('Error during call to suggestCharts:', error);\n",
              "          }\n",
              "          quickchartButtonEl.classList.remove('colab-df-spinner');\n",
              "          quickchartButtonEl.classList.add('colab-df-quickchart-complete');\n",
              "        }\n",
              "        (() => {\n",
              "          let quickchartButtonEl =\n",
              "            document.querySelector('#df-df5fb6ad-1e38-4235-9169-a3ddd7abbc55 button');\n",
              "          quickchartButtonEl.style.display =\n",
              "            google.colab.kernel.accessAllowed ? 'block' : 'none';\n",
              "        })();\n",
              "      </script>\n",
              "    </div>\n",
              "    </div>\n",
              "  </div>\n"
            ],
            "application/vnd.google.colaboratory.intrinsic+json": {
              "type": "dataframe",
              "variable_name": "data",
              "summary": "{\n  \"name\": \"data\",\n  \"rows\": 50000,\n  \"fields\": [\n    {\n      \"column\": \"review\",\n      \"properties\": {\n        \"dtype\": \"string\",\n        \"num_unique_values\": 49582,\n        \"samples\": [\n          \"\\\"Soul Plane\\\" is a horrible attempt at comedy that only should appeal people with thick skulls, bloodshot eyes and furry pawns. <br /><br />The plot is not only incoherent but also non-existent, acting is mostly sub sub-par with a gang of highly moronic and dreadful characters thrown in for bad measure, jokes are often spotted miles ahead and almost never even a bit amusing. This movie lacks any structure and is full of racial stereotypes that must have seemed old even in the fifties, the only thing it really has going for it is some pretty ladies, but really, if you want that you can rent something from the \\\"Adult\\\" section. OK?<br /><br />I can hardly see anything here to recommend since you'll probably have a lot a better and productive time chasing rats with a sledgehammer or inventing waterproof teabags or whatever.<br /><br />2/10\",\n          \"Guest from the Future tells a fascinating story of time travel, friendship, battle of good and evil -- all with a small budget, child actors, and few special effects. Something for Spielberg and Lucas to learn from. ;) A sixth-grader Kolya \\\"Nick\\\" Gerasimov finds a time machine in the basement of a decrepit building and travels 100 years into the future. He discovers a near-perfect, utopian society where robots play guitars and write poetry, everyone is kind to each other and people enjoy everything technology has to offer. Alice is the daughter of a prominent scientist who invented a device called Mielophone that allows to read minds of humans and animals. The device can be put to both good and bad use, depending on whose hands it falls into. When two evil space pirates from Saturn who want to rule the universe attempt to steal Mielophone, it falls into the hands of 20th century school boy Nick. With the pirates hot on his tracks, he travels back to his time, followed by the pirates, and Alice. Chaos, confusion and funny situations follow as the luckless pirates try to blend in with the earthlings. Alice enrolls in the same school Nick goes to and demonstrates superhuman abilities in PE class. The catch is, Alice doesn't know what Nick looks like, while the pirates do. Also, the pirates are able to change their appearance and turn literally into anyone. (Hmm, I wonder if this is where James Cameron got the idea for Terminator...) Who gets to Nick -- and Mielophone -- first? Excellent plot, non-stop adventures, and great soundtrack. I wish Hollywood made kid movies like this one...\",\n          \"\\\"National Treasure\\\" (2004) is a thoroughly misguided hodge-podge of plot entanglements that borrow from nearly every cloak and dagger government conspiracy clich\\u00e9 that has ever been written. The film stars Nicholas Cage as Benjamin Franklin Gates (how precious is that, I ask you?); a seemingly normal fellow who, for no other reason than being of a lineage of like-minded misguided fortune hunters, decides to steal a 'national treasure' that has been hidden by the United States founding fathers. After a bit of subtext and background that plays laughably (unintentionally) like Indiana Jones meets The Patriot, the film degenerates into one misguided whimsy after another \\u0096 attempting to create a 'Stanley Goodspeed' regurgitation of Nicholas Cage and launch the whole convoluted mess forward with a series of high octane, but disconnected misadventures.<br /><br />The relevancy and logic to having George Washington and his motley crew of patriots burying a king's ransom someplace on native soil, and then, going through the meticulous plan of leaving clues scattered throughout U.S. currency art work, is something that director Jon Turteltaub never quite gets around to explaining. Couldn't Washington found better usage for such wealth during the start up of the country? Hence, we are left with a mystery built on top of an enigma that is already on shaky ground by the time Ben appoints himself the new custodian of this untold wealth. Ben's intentions are noble \\u0096 if confusing. He's set on protecting the treasure. For who and when?\\u0085your guess is as good as mine.<br /><br />But there are a few problems with Ben's crusade. First up, his friend, Ian Holmes (Sean Bean) decides that he can't wait for Ben to make up his mind about stealing the Declaration of Independence from the National Archives (oh, yeah \\u0096 brilliant idea!). Presumably, the back of that famous document holds the secret answer to the ultimate fortune. So Ian tries to kill Ben. The assassination attempt is, of course, unsuccessful, if overly melodramatic. It also affords Ben the opportunity to pick up, and pick on, the very sultry curator of the archives, Abigail Chase (Diane Kruger). She thinks Ben is clearly a nut \\u0096 at least at the beginning. But true to action/romance form, Abby's resolve melts quicker than you can say, \\\"is that the Hope Diamond?\\\" The film moves into full X-File-ish mode, as the FBI, mistakenly believing that Ben is behind the theft, retaliate in various benign ways that lead to a multi-layering of action sequences reminiscent of Mission Impossible meets The Fugitive. Honestly, don't those guys ever get 'intelligence' information that is correct? In the final analysis, \\\"National Treasure\\\" isn't great film making, so much as it's a patchwork rehash of tired old bits from other movies, woven together from scraps, the likes of which would make IL' Betsy Ross blush.<br /><br />The Buena Vista DVD delivers a far more generous treatment than this film is deserving of. The anamorphic widescreen picture exhibits a very smooth and finely detailed image with very rich colors, natural flesh tones, solid blacks and clean whites. The stylized image is also free of blemishes and digital enhancements. The audio is 5.1 and delivers a nice sonic boom to your side and rear speakers with intensity and realism. Extras include a host of promotional junket material that is rather deep and over the top in its explanation of how and why this film was made. If only, as an audience, we had had more clarification as to why Ben and co. were chasing after an illusive treasure, this might have been one good flick. Extras conclude with the theatrical trailer, audio commentary and deleted scenes. Not for the faint-hearted \\u0096 just the thick-headed.\"\n        ],\n        \"semantic_type\": \"\",\n        \"description\": \"\"\n      }\n    },\n    {\n      \"column\": \"sentiment\",\n      \"properties\": {\n        \"dtype\": \"category\",\n        \"num_unique_values\": 2,\n        \"samples\": [\n          \"negative\",\n          \"positive\"\n        ],\n        \"semantic_type\": \"\",\n        \"description\": \"\"\n      }\n    }\n  ]\n}"
            }
          },
          "metadata": {},
          "execution_count": 10
        }
      ]
    },
    {
      "cell_type": "code",
      "source": [
        "MAX_SEQ_LEN = 64"
      ],
      "metadata": {
        "id": "EXvH-XJY6k5n"
      },
      "execution_count": 11,
      "outputs": []
    },
    {
      "cell_type": "code",
      "source": [
        "# def normilize_text(seq):\n",
        "#     norm = re.sub(r'[^a-zA-Z1-9\\s<br/>]', '', seq)\n",
        "#     norm = re.sub(r'[\\s+]', ' ', norm).strip()\n",
        "#     norm = re.sub(r'<br\\s?/?>', ' ', norm)\n",
        "\n",
        "#     return norm"
      ],
      "metadata": {
        "id": "1gJcpS29dbZ5"
      },
      "execution_count": 12,
      "outputs": []
    },
    {
      "cell_type": "code",
      "source": [
        "# data['review'] = data['review'].apply(normilize_text)\n",
        "data['sentiment'] = data['sentiment'].apply(lambda x: 0 if x == 'negative' else 1)\n",
        "# data['sentiment' == 'negative'] = 0\n",
        "data"
      ],
      "metadata": {
        "colab": {
          "base_uri": "https://localhost:8080/",
          "height": 423
        },
        "id": "DNvf-XA-ya6h",
        "outputId": "0f2a24b5-b9ef-42d5-cb35-d68be41c386e"
      },
      "execution_count": 13,
      "outputs": [
        {
          "output_type": "execute_result",
          "data": {
            "text/plain": [
              "                                                  review  sentiment\n",
              "0      One of the other reviewers has mentioned that ...          1\n",
              "1      A wonderful little production. <br /><br />The...          1\n",
              "2      I thought this was a wonderful way to spend ti...          1\n",
              "3      Basically there's a family where a little boy ...          0\n",
              "4      Petter Mattei's \"Love in the Time of Money\" is...          1\n",
              "...                                                  ...        ...\n",
              "49995  I thought this movie did a down right good job...          1\n",
              "49996  Bad plot, bad dialogue, bad acting, idiotic di...          0\n",
              "49997  I am a Catholic taught in parochial elementary...          0\n",
              "49998  I'm going to have to disagree with the previou...          0\n",
              "49999  No one expects the Star Trek movies to be high...          0\n",
              "\n",
              "[50000 rows x 2 columns]"
            ],
            "text/html": [
              "\n",
              "  <div id=\"df-e64ddcd4-85a6-413a-84b1-bb61b5890a1d\" class=\"colab-df-container\">\n",
              "    <div>\n",
              "<style scoped>\n",
              "    .dataframe tbody tr th:only-of-type {\n",
              "        vertical-align: middle;\n",
              "    }\n",
              "\n",
              "    .dataframe tbody tr th {\n",
              "        vertical-align: top;\n",
              "    }\n",
              "\n",
              "    .dataframe thead th {\n",
              "        text-align: right;\n",
              "    }\n",
              "</style>\n",
              "<table border=\"1\" class=\"dataframe\">\n",
              "  <thead>\n",
              "    <tr style=\"text-align: right;\">\n",
              "      <th></th>\n",
              "      <th>review</th>\n",
              "      <th>sentiment</th>\n",
              "    </tr>\n",
              "  </thead>\n",
              "  <tbody>\n",
              "    <tr>\n",
              "      <th>0</th>\n",
              "      <td>One of the other reviewers has mentioned that ...</td>\n",
              "      <td>1</td>\n",
              "    </tr>\n",
              "    <tr>\n",
              "      <th>1</th>\n",
              "      <td>A wonderful little production. &lt;br /&gt;&lt;br /&gt;The...</td>\n",
              "      <td>1</td>\n",
              "    </tr>\n",
              "    <tr>\n",
              "      <th>2</th>\n",
              "      <td>I thought this was a wonderful way to spend ti...</td>\n",
              "      <td>1</td>\n",
              "    </tr>\n",
              "    <tr>\n",
              "      <th>3</th>\n",
              "      <td>Basically there's a family where a little boy ...</td>\n",
              "      <td>0</td>\n",
              "    </tr>\n",
              "    <tr>\n",
              "      <th>4</th>\n",
              "      <td>Petter Mattei's \"Love in the Time of Money\" is...</td>\n",
              "      <td>1</td>\n",
              "    </tr>\n",
              "    <tr>\n",
              "      <th>...</th>\n",
              "      <td>...</td>\n",
              "      <td>...</td>\n",
              "    </tr>\n",
              "    <tr>\n",
              "      <th>49995</th>\n",
              "      <td>I thought this movie did a down right good job...</td>\n",
              "      <td>1</td>\n",
              "    </tr>\n",
              "    <tr>\n",
              "      <th>49996</th>\n",
              "      <td>Bad plot, bad dialogue, bad acting, idiotic di...</td>\n",
              "      <td>0</td>\n",
              "    </tr>\n",
              "    <tr>\n",
              "      <th>49997</th>\n",
              "      <td>I am a Catholic taught in parochial elementary...</td>\n",
              "      <td>0</td>\n",
              "    </tr>\n",
              "    <tr>\n",
              "      <th>49998</th>\n",
              "      <td>I'm going to have to disagree with the previou...</td>\n",
              "      <td>0</td>\n",
              "    </tr>\n",
              "    <tr>\n",
              "      <th>49999</th>\n",
              "      <td>No one expects the Star Trek movies to be high...</td>\n",
              "      <td>0</td>\n",
              "    </tr>\n",
              "  </tbody>\n",
              "</table>\n",
              "<p>50000 rows × 2 columns</p>\n",
              "</div>\n",
              "    <div class=\"colab-df-buttons\">\n",
              "\n",
              "  <div class=\"colab-df-container\">\n",
              "    <button class=\"colab-df-convert\" onclick=\"convertToInteractive('df-e64ddcd4-85a6-413a-84b1-bb61b5890a1d')\"\n",
              "            title=\"Convert this dataframe to an interactive table.\"\n",
              "            style=\"display:none;\">\n",
              "\n",
              "  <svg xmlns=\"http://www.w3.org/2000/svg\" height=\"24px\" viewBox=\"0 -960 960 960\">\n",
              "    <path d=\"M120-120v-720h720v720H120Zm60-500h600v-160H180v160Zm220 220h160v-160H400v160Zm0 220h160v-160H400v160ZM180-400h160v-160H180v160Zm440 0h160v-160H620v160ZM180-180h160v-160H180v160Zm440 0h160v-160H620v160Z\"/>\n",
              "  </svg>\n",
              "    </button>\n",
              "\n",
              "  <style>\n",
              "    .colab-df-container {\n",
              "      display:flex;\n",
              "      gap: 12px;\n",
              "    }\n",
              "\n",
              "    .colab-df-convert {\n",
              "      background-color: #E8F0FE;\n",
              "      border: none;\n",
              "      border-radius: 50%;\n",
              "      cursor: pointer;\n",
              "      display: none;\n",
              "      fill: #1967D2;\n",
              "      height: 32px;\n",
              "      padding: 0 0 0 0;\n",
              "      width: 32px;\n",
              "    }\n",
              "\n",
              "    .colab-df-convert:hover {\n",
              "      background-color: #E2EBFA;\n",
              "      box-shadow: 0px 1px 2px rgba(60, 64, 67, 0.3), 0px 1px 3px 1px rgba(60, 64, 67, 0.15);\n",
              "      fill: #174EA6;\n",
              "    }\n",
              "\n",
              "    .colab-df-buttons div {\n",
              "      margin-bottom: 4px;\n",
              "    }\n",
              "\n",
              "    [theme=dark] .colab-df-convert {\n",
              "      background-color: #3B4455;\n",
              "      fill: #D2E3FC;\n",
              "    }\n",
              "\n",
              "    [theme=dark] .colab-df-convert:hover {\n",
              "      background-color: #434B5C;\n",
              "      box-shadow: 0px 1px 3px 1px rgba(0, 0, 0, 0.15);\n",
              "      filter: drop-shadow(0px 1px 2px rgba(0, 0, 0, 0.3));\n",
              "      fill: #FFFFFF;\n",
              "    }\n",
              "  </style>\n",
              "\n",
              "    <script>\n",
              "      const buttonEl =\n",
              "        document.querySelector('#df-e64ddcd4-85a6-413a-84b1-bb61b5890a1d button.colab-df-convert');\n",
              "      buttonEl.style.display =\n",
              "        google.colab.kernel.accessAllowed ? 'block' : 'none';\n",
              "\n",
              "      async function convertToInteractive(key) {\n",
              "        const element = document.querySelector('#df-e64ddcd4-85a6-413a-84b1-bb61b5890a1d');\n",
              "        const dataTable =\n",
              "          await google.colab.kernel.invokeFunction('convertToInteractive',\n",
              "                                                    [key], {});\n",
              "        if (!dataTable) return;\n",
              "\n",
              "        const docLinkHtml = 'Like what you see? Visit the ' +\n",
              "          '<a target=\"_blank\" href=https://colab.research.google.com/notebooks/data_table.ipynb>data table notebook</a>'\n",
              "          + ' to learn more about interactive tables.';\n",
              "        element.innerHTML = '';\n",
              "        dataTable['output_type'] = 'display_data';\n",
              "        await google.colab.output.renderOutput(dataTable, element);\n",
              "        const docLink = document.createElement('div');\n",
              "        docLink.innerHTML = docLinkHtml;\n",
              "        element.appendChild(docLink);\n",
              "      }\n",
              "    </script>\n",
              "  </div>\n",
              "\n",
              "\n",
              "    <div id=\"df-9df40418-1509-4ba8-94f5-74130f000a68\">\n",
              "      <button class=\"colab-df-quickchart\" onclick=\"quickchart('df-9df40418-1509-4ba8-94f5-74130f000a68')\"\n",
              "                title=\"Suggest charts\"\n",
              "                style=\"display:none;\">\n",
              "\n",
              "<svg xmlns=\"http://www.w3.org/2000/svg\" height=\"24px\"viewBox=\"0 0 24 24\"\n",
              "     width=\"24px\">\n",
              "    <g>\n",
              "        <path d=\"M19 3H5c-1.1 0-2 .9-2 2v14c0 1.1.9 2 2 2h14c1.1 0 2-.9 2-2V5c0-1.1-.9-2-2-2zM9 17H7v-7h2v7zm4 0h-2V7h2v10zm4 0h-2v-4h2v4z\"/>\n",
              "    </g>\n",
              "</svg>\n",
              "      </button>\n",
              "\n",
              "<style>\n",
              "  .colab-df-quickchart {\n",
              "      --bg-color: #E8F0FE;\n",
              "      --fill-color: #1967D2;\n",
              "      --hover-bg-color: #E2EBFA;\n",
              "      --hover-fill-color: #174EA6;\n",
              "      --disabled-fill-color: #AAA;\n",
              "      --disabled-bg-color: #DDD;\n",
              "  }\n",
              "\n",
              "  [theme=dark] .colab-df-quickchart {\n",
              "      --bg-color: #3B4455;\n",
              "      --fill-color: #D2E3FC;\n",
              "      --hover-bg-color: #434B5C;\n",
              "      --hover-fill-color: #FFFFFF;\n",
              "      --disabled-bg-color: #3B4455;\n",
              "      --disabled-fill-color: #666;\n",
              "  }\n",
              "\n",
              "  .colab-df-quickchart {\n",
              "    background-color: var(--bg-color);\n",
              "    border: none;\n",
              "    border-radius: 50%;\n",
              "    cursor: pointer;\n",
              "    display: none;\n",
              "    fill: var(--fill-color);\n",
              "    height: 32px;\n",
              "    padding: 0;\n",
              "    width: 32px;\n",
              "  }\n",
              "\n",
              "  .colab-df-quickchart:hover {\n",
              "    background-color: var(--hover-bg-color);\n",
              "    box-shadow: 0 1px 2px rgba(60, 64, 67, 0.3), 0 1px 3px 1px rgba(60, 64, 67, 0.15);\n",
              "    fill: var(--button-hover-fill-color);\n",
              "  }\n",
              "\n",
              "  .colab-df-quickchart-complete:disabled,\n",
              "  .colab-df-quickchart-complete:disabled:hover {\n",
              "    background-color: var(--disabled-bg-color);\n",
              "    fill: var(--disabled-fill-color);\n",
              "    box-shadow: none;\n",
              "  }\n",
              "\n",
              "  .colab-df-spinner {\n",
              "    border: 2px solid var(--fill-color);\n",
              "    border-color: transparent;\n",
              "    border-bottom-color: var(--fill-color);\n",
              "    animation:\n",
              "      spin 1s steps(1) infinite;\n",
              "  }\n",
              "\n",
              "  @keyframes spin {\n",
              "    0% {\n",
              "      border-color: transparent;\n",
              "      border-bottom-color: var(--fill-color);\n",
              "      border-left-color: var(--fill-color);\n",
              "    }\n",
              "    20% {\n",
              "      border-color: transparent;\n",
              "      border-left-color: var(--fill-color);\n",
              "      border-top-color: var(--fill-color);\n",
              "    }\n",
              "    30% {\n",
              "      border-color: transparent;\n",
              "      border-left-color: var(--fill-color);\n",
              "      border-top-color: var(--fill-color);\n",
              "      border-right-color: var(--fill-color);\n",
              "    }\n",
              "    40% {\n",
              "      border-color: transparent;\n",
              "      border-right-color: var(--fill-color);\n",
              "      border-top-color: var(--fill-color);\n",
              "    }\n",
              "    60% {\n",
              "      border-color: transparent;\n",
              "      border-right-color: var(--fill-color);\n",
              "    }\n",
              "    80% {\n",
              "      border-color: transparent;\n",
              "      border-right-color: var(--fill-color);\n",
              "      border-bottom-color: var(--fill-color);\n",
              "    }\n",
              "    90% {\n",
              "      border-color: transparent;\n",
              "      border-bottom-color: var(--fill-color);\n",
              "    }\n",
              "  }\n",
              "</style>\n",
              "\n",
              "      <script>\n",
              "        async function quickchart(key) {\n",
              "          const quickchartButtonEl =\n",
              "            document.querySelector('#' + key + ' button');\n",
              "          quickchartButtonEl.disabled = true;  // To prevent multiple clicks.\n",
              "          quickchartButtonEl.classList.add('colab-df-spinner');\n",
              "          try {\n",
              "            const charts = await google.colab.kernel.invokeFunction(\n",
              "                'suggestCharts', [key], {});\n",
              "          } catch (error) {\n",
              "            console.error('Error during call to suggestCharts:', error);\n",
              "          }\n",
              "          quickchartButtonEl.classList.remove('colab-df-spinner');\n",
              "          quickchartButtonEl.classList.add('colab-df-quickchart-complete');\n",
              "        }\n",
              "        (() => {\n",
              "          let quickchartButtonEl =\n",
              "            document.querySelector('#df-9df40418-1509-4ba8-94f5-74130f000a68 button');\n",
              "          quickchartButtonEl.style.display =\n",
              "            google.colab.kernel.accessAllowed ? 'block' : 'none';\n",
              "        })();\n",
              "      </script>\n",
              "    </div>\n",
              "    </div>\n",
              "  </div>\n"
            ],
            "application/vnd.google.colaboratory.intrinsic+json": {
              "type": "dataframe",
              "variable_name": "data",
              "summary": "{\n  \"name\": \"data\",\n  \"rows\": 50000,\n  \"fields\": [\n    {\n      \"column\": \"review\",\n      \"properties\": {\n        \"dtype\": \"string\",\n        \"num_unique_values\": 49582,\n        \"samples\": [\n          \"\\\"Soul Plane\\\" is a horrible attempt at comedy that only should appeal people with thick skulls, bloodshot eyes and furry pawns. <br /><br />The plot is not only incoherent but also non-existent, acting is mostly sub sub-par with a gang of highly moronic and dreadful characters thrown in for bad measure, jokes are often spotted miles ahead and almost never even a bit amusing. This movie lacks any structure and is full of racial stereotypes that must have seemed old even in the fifties, the only thing it really has going for it is some pretty ladies, but really, if you want that you can rent something from the \\\"Adult\\\" section. OK?<br /><br />I can hardly see anything here to recommend since you'll probably have a lot a better and productive time chasing rats with a sledgehammer or inventing waterproof teabags or whatever.<br /><br />2/10\",\n          \"Guest from the Future tells a fascinating story of time travel, friendship, battle of good and evil -- all with a small budget, child actors, and few special effects. Something for Spielberg and Lucas to learn from. ;) A sixth-grader Kolya \\\"Nick\\\" Gerasimov finds a time machine in the basement of a decrepit building and travels 100 years into the future. He discovers a near-perfect, utopian society where robots play guitars and write poetry, everyone is kind to each other and people enjoy everything technology has to offer. Alice is the daughter of a prominent scientist who invented a device called Mielophone that allows to read minds of humans and animals. The device can be put to both good and bad use, depending on whose hands it falls into. When two evil space pirates from Saturn who want to rule the universe attempt to steal Mielophone, it falls into the hands of 20th century school boy Nick. With the pirates hot on his tracks, he travels back to his time, followed by the pirates, and Alice. Chaos, confusion and funny situations follow as the luckless pirates try to blend in with the earthlings. Alice enrolls in the same school Nick goes to and demonstrates superhuman abilities in PE class. The catch is, Alice doesn't know what Nick looks like, while the pirates do. Also, the pirates are able to change their appearance and turn literally into anyone. (Hmm, I wonder if this is where James Cameron got the idea for Terminator...) Who gets to Nick -- and Mielophone -- first? Excellent plot, non-stop adventures, and great soundtrack. I wish Hollywood made kid movies like this one...\",\n          \"\\\"National Treasure\\\" (2004) is a thoroughly misguided hodge-podge of plot entanglements that borrow from nearly every cloak and dagger government conspiracy clich\\u00e9 that has ever been written. The film stars Nicholas Cage as Benjamin Franklin Gates (how precious is that, I ask you?); a seemingly normal fellow who, for no other reason than being of a lineage of like-minded misguided fortune hunters, decides to steal a 'national treasure' that has been hidden by the United States founding fathers. After a bit of subtext and background that plays laughably (unintentionally) like Indiana Jones meets The Patriot, the film degenerates into one misguided whimsy after another \\u0096 attempting to create a 'Stanley Goodspeed' regurgitation of Nicholas Cage and launch the whole convoluted mess forward with a series of high octane, but disconnected misadventures.<br /><br />The relevancy and logic to having George Washington and his motley crew of patriots burying a king's ransom someplace on native soil, and then, going through the meticulous plan of leaving clues scattered throughout U.S. currency art work, is something that director Jon Turteltaub never quite gets around to explaining. Couldn't Washington found better usage for such wealth during the start up of the country? Hence, we are left with a mystery built on top of an enigma that is already on shaky ground by the time Ben appoints himself the new custodian of this untold wealth. Ben's intentions are noble \\u0096 if confusing. He's set on protecting the treasure. For who and when?\\u0085your guess is as good as mine.<br /><br />But there are a few problems with Ben's crusade. First up, his friend, Ian Holmes (Sean Bean) decides that he can't wait for Ben to make up his mind about stealing the Declaration of Independence from the National Archives (oh, yeah \\u0096 brilliant idea!). Presumably, the back of that famous document holds the secret answer to the ultimate fortune. So Ian tries to kill Ben. The assassination attempt is, of course, unsuccessful, if overly melodramatic. It also affords Ben the opportunity to pick up, and pick on, the very sultry curator of the archives, Abigail Chase (Diane Kruger). She thinks Ben is clearly a nut \\u0096 at least at the beginning. But true to action/romance form, Abby's resolve melts quicker than you can say, \\\"is that the Hope Diamond?\\\" The film moves into full X-File-ish mode, as the FBI, mistakenly believing that Ben is behind the theft, retaliate in various benign ways that lead to a multi-layering of action sequences reminiscent of Mission Impossible meets The Fugitive. Honestly, don't those guys ever get 'intelligence' information that is correct? In the final analysis, \\\"National Treasure\\\" isn't great film making, so much as it's a patchwork rehash of tired old bits from other movies, woven together from scraps, the likes of which would make IL' Betsy Ross blush.<br /><br />The Buena Vista DVD delivers a far more generous treatment than this film is deserving of. The anamorphic widescreen picture exhibits a very smooth and finely detailed image with very rich colors, natural flesh tones, solid blacks and clean whites. The stylized image is also free of blemishes and digital enhancements. The audio is 5.1 and delivers a nice sonic boom to your side and rear speakers with intensity and realism. Extras include a host of promotional junket material that is rather deep and over the top in its explanation of how and why this film was made. If only, as an audience, we had had more clarification as to why Ben and co. were chasing after an illusive treasure, this might have been one good flick. Extras conclude with the theatrical trailer, audio commentary and deleted scenes. Not for the faint-hearted \\u0096 just the thick-headed.\"\n        ],\n        \"semantic_type\": \"\",\n        \"description\": \"\"\n      }\n    },\n    {\n      \"column\": \"sentiment\",\n      \"properties\": {\n        \"dtype\": \"number\",\n        \"std\": 0,\n        \"min\": 0,\n        \"max\": 1,\n        \"num_unique_values\": 2,\n        \"samples\": [\n          0,\n          1\n        ],\n        \"semantic_type\": \"\",\n        \"description\": \"\"\n      }\n    }\n  ]\n}"
            }
          },
          "metadata": {},
          "execution_count": 13
        }
      ]
    },
    {
      "cell_type": "code",
      "source": [
        "print(collections.Counter(data['sentiment']))"
      ],
      "metadata": {
        "colab": {
          "base_uri": "https://localhost:8080/"
        },
        "id": "YB20b46p0ZiL",
        "outputId": "e161c9db-f458-4ed3-8a98-f6439c991881"
      },
      "execution_count": 69,
      "outputs": [
        {
          "output_type": "stream",
          "name": "stdout",
          "text": [
            "Counter({1: 25000, 0: 25000})\n"
          ]
        }
      ]
    },
    {
      "cell_type": "code",
      "source": [
        "X_train, X_test, y_train, y_test = train_test_split(data['review'],\n",
        "                                                    data['sentiment'],\n",
        "                                                    test_size = 0.2,\n",
        "                                                    random_state = 42)"
      ],
      "metadata": {
        "id": "01TopKUP90Xl"
      },
      "execution_count": 14,
      "outputs": []
    },
    {
      "cell_type": "code",
      "source": [
        "class IMDBDataset(Dataset):\n",
        "    def __init__(self, seqs, labels, tokenizer):\n",
        "        self.seqs = seqs\n",
        "        self.labels = labels\n",
        "        self.tokenizer = tokenizer\n",
        "\n",
        "    def __len__(self):\n",
        "        return len(self.seqs)\n",
        "\n",
        "    def __getitem__(self, ind):\n",
        "        seq = self.seqs[ind]\n",
        "        label = torch.tensor(self.labels[ind], dtype=torch.long)\n",
        "\n",
        "        inf = self.tokenizer.encode_plus(\n",
        "            text=seq,\n",
        "            max_length = MAX_SEQ_LEN,\n",
        "            add_special_tokens = True,\n",
        "            truncation = True,\n",
        "            padding = 'max_length',\n",
        "            return_tensors = 'pt',\n",
        "        )\n",
        "\n",
        "        tokenised = inf['input_ids'].view(-1)\n",
        "        att_mask = inf['attention_mask'].unsqueeze(0)\n",
        "        seq_len = torch.LongTensor([torch.count_nonzero(tokenised)])\n",
        "\n",
        "        out = {'seq':       seq,\n",
        "               'tokenized': tokenised,\n",
        "               'att_mask':  att_mask,\n",
        "               'seq_len':   seq_len,\n",
        "               'label':     label\n",
        "               }\n",
        "\n",
        "        return out"
      ],
      "metadata": {
        "id": "djHCWFAz2iDn"
      },
      "execution_count": 71,
      "outputs": []
    },
    {
      "cell_type": "code",
      "source": [
        "train_data = IMDBDataset(X_train.values,\n",
        "                         y_train.values,\n",
        "                         tokenizer)\n",
        "test_data = IMDBDataset(X_test.values,\n",
        "                        y_test.values,\n",
        "                        tokenizer)"
      ],
      "metadata": {
        "id": "CkAHBKGb9gaV"
      },
      "execution_count": 72,
      "outputs": []
    },
    {
      "cell_type": "code",
      "source": [
        "test_data[10]['att_mask'].size()"
      ],
      "metadata": {
        "colab": {
          "base_uri": "https://localhost:8080/"
        },
        "id": "siM_p4GY-Plr",
        "outputId": "2afd578c-54e1-41b4-a871-a984ae2868a4"
      },
      "execution_count": 73,
      "outputs": [
        {
          "output_type": "execute_result",
          "data": {
            "text/plain": [
              "torch.Size([1, 1, 64])"
            ]
          },
          "metadata": {},
          "execution_count": 73
        }
      ]
    },
    {
      "cell_type": "code",
      "source": [
        "train_loader = DataLoader(train_data,\n",
        "                          batch_size=128,\n",
        "                          shuffle=True,\n",
        "                          drop_last=True)"
      ],
      "metadata": {
        "id": "lIO4oncgHW9g"
      },
      "execution_count": 74,
      "outputs": []
    },
    {
      "cell_type": "code",
      "source": [
        "test_loader = DataLoader(test_data,\n",
        "                         batch_size=128,\n",
        "                         shuffle=True,\n",
        "                         drop_last=True)"
      ],
      "metadata": {
        "id": "boTeQ7G3HjYX"
      },
      "execution_count": 75,
      "outputs": []
    },
    {
      "cell_type": "markdown",
      "source": [
        "### $\\text{Model components}$"
      ],
      "metadata": {
        "id": "OExqXBhwlHhc"
      }
    },
    {
      "cell_type": "code",
      "source": [
        "class Embeddings(nn.Module):\n",
        "    def __init__(self, vocab_size, emb_size):\n",
        "        super(Embeddings, self).__init__()\n",
        "\n",
        "        self.vocab_size = vocab_size\n",
        "        self.emb_size = emb_size\n",
        "\n",
        "        self.emb = nn.Embedding(self.vocab_size, self.emb_size)\n",
        "\n",
        "    def forward(self, X):\n",
        "        emb = self.emb(X)\n",
        "\n",
        "        return emb # size = [batch_size*seq_len*emb_size]"
      ],
      "metadata": {
        "id": "sJOTYajld4AO"
      },
      "execution_count": 76,
      "outputs": []
    },
    {
      "cell_type": "markdown",
      "source": [
        "### $\\text{Next, in BERT we use Positional Encoding}$\n",
        "\n",
        "### $$\\text{PE}_{(pos, 2i)} = \\sin \\left(\\frac{pos}{10000^{\\frac{2i}{d_{\\text{model}}}}}\\right)$$\n",
        "\n",
        "### $$\\text{PE}_{(pos, 2i + 1)} = \\cos \\left(\\frac{pos}{10000^{\\frac{2i}{d_{model}}}}\\right)$$"
      ],
      "metadata": {
        "id": "8ioZ1vWqeAEJ"
      }
    },
    {
      "cell_type": "code",
      "source": [
        "class PositionalEncoding(nn.Module):\n",
        "    def __init__(self, seq_len, emb_size=512):\n",
        "        super(PositionalEncoding, self).__init__()\n",
        "\n",
        "        self.seq_len = seq_len\n",
        "        self.emb_size = emb_size\n",
        "\n",
        "        pe = torch.zeros(size=(self.seq_len, self.emb_size))\n",
        "\n",
        "        for position in range(self.seq_len):\n",
        "            for i in range(0, self.emb_size, 2):\n",
        "                pe[position, i] = math.sin(position/10000**(2*i/self.emb_size))\n",
        "                if i + 1 < self.emb_size:\n",
        "                    pe[position, i + 1] = math.cos(position/10000**(2*i/self.emb_size))\n",
        "\n",
        "        pe = pe.unsqueeze(0)\n",
        "\n",
        "        self.register_buffer('pe', pe)\n",
        "\n",
        "    def forward(self, X):\n",
        "        current_seq_len = X.size(1)\n",
        "        pe = self.pe[:, :current_seq_len].to(device)  # [1, current_seq_len, emb_size]\n",
        "\n",
        "        X = X + pe\n",
        "\n",
        "        return X"
      ],
      "metadata": {
        "id": "DLXVHWurd7Q_"
      },
      "execution_count": 77,
      "outputs": []
    },
    {
      "cell_type": "code",
      "source": [
        "class Sublayer(nn.Module):\n",
        "    def __init__(self, emb_size=512, dropout_p=0.2):\n",
        "        super(Sublayer, self).__init__()\n",
        "        \"\"\"\n",
        "        param emb_size: size of model\n",
        "        param dropout_p: probability of dropout\n",
        "        \"\"\"\n",
        "        self.norm = nn.LayerNorm(emb_size)\n",
        "        self.dropout = nn.Dropout(dropout_p)\n",
        "\n",
        "    def forward(self, X, result):\n",
        "        \"\"\"\n",
        "        param X: input data\n",
        "        param result: x which we passed through some function\n",
        "        \"\"\"\n",
        "        out = X + self.dropout(self.norm(result))\n",
        "\n",
        "        return out"
      ],
      "metadata": {
        "id": "LyWtLVq2l9Sk"
      },
      "execution_count": 78,
      "outputs": []
    },
    {
      "cell_type": "markdown",
      "source": [
        "### $\\text {FFN class}$\n",
        "\n",
        "### $$\\text{FFN}(x) = \\max(0, xW_{1} + b_{1})W_{2} + b_{2}$$"
      ],
      "metadata": {
        "id": "nH1XcJuVmqJo"
      }
    },
    {
      "cell_type": "code",
      "source": [
        "class FFN(nn.Module):\n",
        "    def __init__(self, emb_size=512, scaling_factor=4, dropout_p=0.2):\n",
        "        super(FFN, self).__init__()\n",
        "\n",
        "        \"\"\"\n",
        "        param emb_size: size of model\n",
        "        param scaling_factor: scaling_factor*emb_size = size of hidden layer\n",
        "        param dropout_p: probability of dropout\n",
        "\n",
        "        \"\"\"\n",
        "\n",
        "        self.linear = nn.Sequential(\n",
        "            nn.Linear(emb_size, emb_size*scaling_factor),\n",
        "            nn.ReLU(),\n",
        "            nn.Linear(emb_size*scaling_factor, emb_size)\n",
        "        )\n",
        "\n",
        "        self.dropout = nn.Dropout(dropout_p)\n",
        "\n",
        "    def forward(self, X):\n",
        "        out = self.dropout(self.linear(X))\n",
        "\n",
        "        return out"
      ],
      "metadata": {
        "id": "9Jx6RccSmALY"
      },
      "execution_count": 79,
      "outputs": []
    },
    {
      "cell_type": "markdown",
      "source": [
        "### $\\text {Next, we need to realize the main idea of transformer`s model - Multihead Attention}$\n",
        "\n",
        "### $$\\text{Attention}(Q, K, V) = \\text{softmax}\\left(\\frac{QK^{T}}{\\sqrt{d_\\text{model}}}\\right)V$$"
      ],
      "metadata": {
        "id": "IfhFlaKOmuLS"
      }
    },
    {
      "cell_type": "code",
      "source": [
        "class MultiheadAttention(nn.Module):\n",
        "    def __init__(self, emb_size=512, n_heads=8):\n",
        "        super(MultiheadAttention, self).__init__()\n",
        "\n",
        "        self.emb_size = emb_size\n",
        "        self.n_heads = n_heads\n",
        "\n",
        "        self.single_head_dim = int(self.emb_size / self.n_heads)\n",
        "\n",
        "        self.k_matrix = nn.Linear(self.single_head_dim, self.single_head_dim)\n",
        "        self.q_matrix = nn.Linear(self.single_head_dim, self.single_head_dim)\n",
        "        self.v_matrix = nn.Linear(self.single_head_dim, self.single_head_dim)\n",
        "\n",
        "        self.out = nn.Linear(self.n_heads * self.single_head_dim, self.emb_size)\n",
        "\n",
        "        self.att_weights = None\n",
        "\n",
        "    def forward(self, query, key, value, mask=None):\n",
        "        \"\"\"\n",
        "        key, query, value - same embeddings, after nn.Embedding layer in encoder\n",
        "\n",
        "        key.shape=value.shape!=query.shape in decoder\n",
        "\n",
        "        \"\"\"\n",
        "\n",
        "        batch_size = key.shape[0]\n",
        "        seq_len = key.shape[1]\n",
        "\n",
        "        # for decoder we use another length for query as the length will be different\n",
        "        query_len = query.shape[1]\n",
        "\n",
        "        # divide into 8 heads\n",
        "        query = query.view(batch_size, query_len, self.n_heads, self.single_head_dim)\n",
        "        key = key.view(batch_size, seq_len, self.n_heads, self.single_head_dim)\n",
        "        value = value.view(batch_size, seq_len, self.n_heads, self.single_head_dim)\n",
        "\n",
        "        k = self.k_matrix(key)\n",
        "        q = self.q_matrix(query)\n",
        "        v = self.v_matrix(value)\n",
        "\n",
        "        # transpose matrix for better multiplication in Pytorch\n",
        "\n",
        "        q = q.transpose(1, 2) #[batch_size*n_heads*query_len*single_head_dim]\n",
        "        k = k.transpose(1, 2) #[batch_size*n_heads*seq_len*single_head_dim]\n",
        "        v = v.transpose(1, 2) #[batch_size*n_heads*seq_len*single_head_dim]\n",
        "\n",
        "        product = torch.matmul(q, k.transpose(2, 3))\n",
        "\n",
        "        # scaling\n",
        "        product = product / math.sqrt(self.single_head_dim)\n",
        "\n",
        "        # print(f'product shape of q and k in multiheadatt: {product.size()}')\n",
        "        # print(f'mask shape in multiheadatt: {mask.size()}')\n",
        "\n",
        "        # for case in which we have mask\n",
        "\n",
        "        if mask is not None:\n",
        "            product = product.masked_fill(mask == 0, float('-inf'))\n",
        "\n",
        "        att_weights = torch.softmax(product, dim=-1)\n",
        "        self.att_weights = att_weights\n",
        "\n",
        "        scores = torch.matmul(att_weights, v) # [batch_size*n_heads*seq_len*single_head_dim]\n",
        "\n",
        "        concat = scores.transpose(1, 2).contiguous().view(batch_size,\n",
        "                                                          query_len,\n",
        "                                                          self.n_heads *\n",
        "                                                          self.single_head_dim)\n",
        "\n",
        "        # print(concat.shape)\n",
        "        output = self.out(concat) # [batch_size*seq_len*emb_dim]\n",
        "\n",
        "        return output"
      ],
      "metadata": {
        "id": "3Uv5PG4Pmc8w"
      },
      "execution_count": 92,
      "outputs": []
    },
    {
      "cell_type": "code",
      "source": [
        "class EncoderBlock(nn.Module):\n",
        "    def __init__(self, emb_size=512, dropout_p=0.2, scaling_factor=4, n_heads=8):\n",
        "        super(EncoderBlock, self).__init__()\n",
        "\n",
        "        self.att = MultiheadAttention(emb_size, n_heads)\n",
        "        self.sublayer = Sublayer(emb_size, dropout_p)\n",
        "        self.ffn = FFN(emb_size, scaling_factor)\n",
        "\n",
        "    def forward(self, X, src_mask):\n",
        "        # print(f'Shape of X in EncoderBlock: {X.shape}')\n",
        "        # print(f'src_mask shape in EncoderBlock: {src_mask.shape}')\n",
        "        out = self.sublayer(X, self.att(X, X, X, src_mask))\n",
        "        out = self.sublayer(out, self.ffn(out))\n",
        "\n",
        "        return out"
      ],
      "metadata": {
        "id": "0aODu3TtsUsZ"
      },
      "execution_count": 93,
      "outputs": []
    },
    {
      "cell_type": "markdown",
      "source": [
        "### $\\text{Model structure}$"
      ],
      "metadata": {
        "id": "_YZ0NJngYaUe"
      }
    },
    {
      "cell_type": "code",
      "source": [
        "class Encoder(nn.Module):\n",
        "    def __init__(self,\n",
        "                 seq_len,\n",
        "                 vocab_size,\n",
        "                 emb_size=512,\n",
        "                 dropout_p=0.2,\n",
        "                 scaling_factor=4,\n",
        "                 n_heads=8,\n",
        "                 num_layers=6):\n",
        "        super(Encoder, self).__init__()\n",
        "\n",
        "        self.emb = Embeddings(vocab_size, emb_size)\n",
        "        self.pe = PositionalEncoding(seq_len, emb_size)\n",
        "        self.enc_layers = nn.ModuleList([\n",
        "            EncoderBlock(emb_size, dropout_p, scaling_factor, n_heads)\n",
        "            for _ in range(num_layers)\n",
        "        ])\n",
        "\n",
        "    def forward(self, X, mask):\n",
        "        embeded = self.emb(X)\n",
        "        out = self.pe(embeded)\n",
        "\n",
        "        for layer in self.enc_layers:\n",
        "            out = layer(out, mask)\n",
        "\n",
        "        return out"
      ],
      "metadata": {
        "id": "ibZdvBrrs9dL"
      },
      "execution_count": 94,
      "outputs": []
    },
    {
      "cell_type": "code",
      "source": [
        "class BERT(nn.Module):\n",
        "    def __init__(self, encoder, emb_size, vocab_size, n_labels):\n",
        "        super(BERT, self).__init__()\n",
        "\n",
        "        self.encoder = encoder\n",
        "\n",
        "        # token prediction\n",
        "        self.generator = nn.Sequential(\n",
        "            nn.Linear(emb_size, emb_size),\n",
        "            nn.GELU(),\n",
        "            nn.Linear(emb_size, vocab_size)\n",
        "        )\n",
        "\n",
        "        # classification\n",
        "        self.classifier = nn.Sequential(\n",
        "            nn.Linear(emb_size, n_labels)\n",
        "        )\n",
        "\n",
        "    def forward(self, X, att_mask):\n",
        "        out = self.encoder(X, att_mask)\n",
        "\n",
        "        generator_out = self.generator(out)\n",
        "        classifier_out = self.classifier(out[:, 0, :])\n",
        "\n",
        "        return generator_out, classifier_out"
      ],
      "metadata": {
        "id": "f5azMbqYtCHb"
      },
      "execution_count": 95,
      "outputs": []
    },
    {
      "cell_type": "code",
      "source": [
        "emb_size = 512\n",
        "n_heads = 8\n",
        "vocab_size = tokenizer.vocab_size\n",
        "dropout_p = 0.2\n",
        "scaling_factor = 4\n",
        "num_layers = 6\n",
        "n_labels = 2"
      ],
      "metadata": {
        "id": "VvaWkzcmcifZ"
      },
      "execution_count": 96,
      "outputs": []
    },
    {
      "cell_type": "code",
      "source": [
        "encoder = Encoder(seq_len=MAX_SEQ_LEN,\n",
        "                  vocab_size=vocab_size,\n",
        "                  emb_size=emb_size,\n",
        "                  dropout_p=dropout_p,\n",
        "                  scaling_factor=scaling_factor,\n",
        "                  n_heads=n_heads,\n",
        "                  num_layers=num_layers).to(device)\n",
        "model = BERT(encoder=encoder,\n",
        "             emb_size=emb_size,\n",
        "             vocab_size=vocab_size,\n",
        "             n_labels=n_labels).to(device)"
      ],
      "metadata": {
        "id": "vyNJpE7LDwxr"
      },
      "execution_count": 129,
      "outputs": []
    },
    {
      "cell_type": "markdown",
      "source": [
        "### $\\text{Initialize weights}$"
      ],
      "metadata": {
        "id": "YWi2OI3BSjxa"
      }
    },
    {
      "cell_type": "code",
      "source": [
        "for p in model.parameters():\n",
        "    if p.dim() > 1:\n",
        "        nn.init.xavier_uniform_(p)\n",
        "\n",
        "model"
      ],
      "metadata": {
        "colab": {
          "base_uri": "https://localhost:8080/"
        },
        "id": "PUTEzu1SGhGU",
        "outputId": "dffcf03d-7b88-4ee1-9a84-8911a3aca620"
      },
      "execution_count": 130,
      "outputs": [
        {
          "output_type": "execute_result",
          "data": {
            "text/plain": [
              "BERT(\n",
              "  (encoder): Encoder(\n",
              "    (emb): Embeddings(\n",
              "      (emb): Embedding(30522, 512)\n",
              "    )\n",
              "    (pe): PositionalEncoding()\n",
              "    (enc_layers): ModuleList(\n",
              "      (0-5): 6 x EncoderBlock(\n",
              "        (att): MultiheadAttention(\n",
              "          (k_matrix): Linear(in_features=64, out_features=64, bias=True)\n",
              "          (q_matrix): Linear(in_features=64, out_features=64, bias=True)\n",
              "          (v_matrix): Linear(in_features=64, out_features=64, bias=True)\n",
              "          (out): Linear(in_features=512, out_features=512, bias=True)\n",
              "        )\n",
              "        (sublayer): Sublayer(\n",
              "          (norm): LayerNorm((512,), eps=1e-05, elementwise_affine=True)\n",
              "          (dropout): Dropout(p=0.2, inplace=False)\n",
              "        )\n",
              "        (ffn): FFN(\n",
              "          (linear): Sequential(\n",
              "            (0): Linear(in_features=512, out_features=2048, bias=True)\n",
              "            (1): ReLU()\n",
              "            (2): Linear(in_features=2048, out_features=512, bias=True)\n",
              "          )\n",
              "          (dropout): Dropout(p=0.2, inplace=False)\n",
              "        )\n",
              "      )\n",
              "    )\n",
              "  )\n",
              "  (generator): Sequential(\n",
              "    (0): Linear(in_features=512, out_features=512, bias=True)\n",
              "    (1): GELU(approximate='none')\n",
              "    (2): Linear(in_features=512, out_features=30522, bias=True)\n",
              "  )\n",
              "  (classifier): Sequential(\n",
              "    (0): Linear(in_features=512, out_features=2, bias=True)\n",
              "  )\n",
              ")"
            ]
          },
          "metadata": {},
          "execution_count": 130
        }
      ]
    },
    {
      "cell_type": "markdown",
      "source": [
        "### $\\text{Let`s create a masking funcion for MLM task}$"
      ],
      "metadata": {
        "id": "TSs7JzcBSwTd"
      }
    },
    {
      "cell_type": "code",
      "source": [
        "def mask_tokens(batch):\n",
        "    tokenized = batch['tokenized']\n",
        "    labels = batch['label']\n",
        "    seq_lens = batch['seq_len']\n",
        "    n_seq = batch['tokenized'].size(0)\n",
        "\n",
        "    n_masked_tokens = [math.ceil(seq_len.item()*0.15) for seq_len in seq_lens]\n",
        "    masked_position = [random.sample(range(1, seq_lens[i].item()-1), n_masked_tokens[i])\n",
        "                       if seq_lens[i] > 4 else []\n",
        "                       for i in range(n_seq)]\n",
        "    # Тензор для того, чтобы хранить только замаскированные токены\n",
        "    masked_tokens = torch.full_like(batch[\"tokenized\"], -100)\n",
        "    for i in range(n_seq):\n",
        "        # batch[\"att_mask\"][i, 0, 0, masked_position[i]] = 0\n",
        "        masked_tokens[i, masked_position[i]] = batch[\"tokenized\"][i, masked_position[i]]\n",
        "        batch[\"tokenized\"][i, masked_position[i]] = tokenizer.mask_token_id\n",
        "\n",
        "    return batch, masked_tokens"
      ],
      "metadata": {
        "id": "AHDOIgxSHuVP"
      },
      "execution_count": 131,
      "outputs": []
    },
    {
      "cell_type": "code",
      "source": [
        "epochs = 5\n",
        "lr = 1e-5"
      ],
      "metadata": {
        "id": "kBbSfJCaVv5x"
      },
      "execution_count": 132,
      "outputs": []
    },
    {
      "cell_type": "code",
      "source": [
        "mlm_criterion = nn.CrossEntropyLoss()\n",
        "clf_criterion = nn.CrossEntropyLoss()\n",
        "optimizer = AdamW(model.parameters(), lr=lr)"
      ],
      "metadata": {
        "id": "GNMqP79BMggy"
      },
      "execution_count": 133,
      "outputs": []
    },
    {
      "cell_type": "markdown",
      "source": [
        "### $\\text{Training process}$"
      ],
      "metadata": {
        "id": "eKAIqJydS7DZ"
      }
    },
    {
      "cell_type": "code",
      "source": [
        "model.train()\n",
        "\n",
        "for epoch in range(epochs):\n",
        "    epoch_mlm_loss = []\n",
        "    epoch_clf_loss = []\n",
        "    for batch in tqdm(train_loader):\n",
        "        batch, masked_tokens = mask_tokens(batch)\n",
        "\n",
        "        # print(batch['tokenized'].size())\n",
        "        # print(batch['att_mask'].size())\n",
        "        gen_out, clf_out = model(batch['tokenized'].to(device),\n",
        "                                 batch['att_mask'].to(device))\n",
        "        # print(clf_out.shape)\n",
        "\n",
        "        gen_loss = mlm_criterion(gen_out.view(-1, vocab_size),\n",
        "                             masked_tokens.view(-1).to(device))\n",
        "        clf_loss = clf_criterion(clf_out,\n",
        "                            batch['label'].view(-1).to(device))\n",
        "\n",
        "        loss = gen_loss + clf_loss\n",
        "        loss.backward()\n",
        "        optimizer.step()\n",
        "        optimizer.zero_grad(set_to_none=True)\n",
        "        epoch_mlm_loss.append(gen_loss.item())\n",
        "        epoch_clf_loss.append(clf_loss.item())\n",
        "\n",
        "    print(f'Num of epoch: {epoch}')\n",
        "    print(f'epoch_mlm_loss = {np.mean(epoch_mlm_loss)}')\n",
        "    print(f'epoch_clf_loss = {np.mean(epoch_clf_loss)}')"
      ],
      "metadata": {
        "id": "oKKMDb8fv0v8",
        "colab": {
          "base_uri": "https://localhost:8080/"
        },
        "outputId": "61f52def-1bd5-499d-9ae4-fcd891aab561"
      },
      "execution_count": 134,
      "outputs": [
        {
          "metadata": {
            "tags": null
          },
          "name": "stderr",
          "output_type": "stream",
          "text": [
            "100%|██████████| 312/312 [03:36<00:00,  1.44it/s]\n"
          ]
        },
        {
          "metadata": {
            "tags": null
          },
          "name": "stdout",
          "output_type": "stream",
          "text": [
            "Num of epoch: 0\n",
            "epoch_mlm_loss = 7.9160190881826935\n",
            "epoch_clf_loss = 1.788615046785428\n"
          ]
        },
        {
          "metadata": {
            "tags": null
          },
          "name": "stderr",
          "output_type": "stream",
          "text": [
            "100%|██████████| 312/312 [03:36<00:00,  1.44it/s]\n"
          ]
        },
        {
          "metadata": {
            "tags": null
          },
          "name": "stdout",
          "output_type": "stream",
          "text": [
            "Num of epoch: 1\n",
            "epoch_mlm_loss = 6.720668208904756\n",
            "epoch_clf_loss = 1.3103017050486345\n"
          ]
        },
        {
          "output_type": "stream",
          "name": "stderr",
          "text": [
            "100%|██████████| 312/312 [03:35<00:00,  1.45it/s]\n"
          ]
        },
        {
          "output_type": "stream",
          "name": "stdout",
          "text": [
            "Num of epoch: 2\n",
            "epoch_mlm_loss = 6.701140767488724\n",
            "epoch_clf_loss = 1.0729208242816803\n"
          ]
        },
        {
          "output_type": "stream",
          "name": "stderr",
          "text": [
            "100%|██████████| 312/312 [03:35<00:00,  1.45it/s]\n"
          ]
        },
        {
          "output_type": "stream",
          "name": "stdout",
          "text": [
            "Num of epoch: 3\n",
            "epoch_mlm_loss = 6.7010243107111025\n",
            "epoch_clf_loss = 0.9582189271847407\n"
          ]
        },
        {
          "output_type": "stream",
          "name": "stderr",
          "text": [
            "100%|██████████| 312/312 [03:35<00:00,  1.45it/s]"
          ]
        },
        {
          "output_type": "stream",
          "name": "stdout",
          "text": [
            "Num of epoch: 4\n",
            "epoch_mlm_loss = 6.6848666148308\n",
            "epoch_clf_loss = 0.8932566510943266\n"
          ]
        },
        {
          "output_type": "stream",
          "name": "stderr",
          "text": [
            "\n"
          ]
        }
      ]
    },
    {
      "cell_type": "markdown",
      "source": [
        "### $\\text{Let`s validate or model}$"
      ],
      "metadata": {
        "id": "IlPnlntrS_ev"
      }
    },
    {
      "cell_type": "code",
      "source": [
        "model.eval()\n",
        "with torch.no_grad():\n",
        "    test_mlm_loss = []\n",
        "    test_clf_loss = []\n",
        "\n",
        "    for batch in tqdm(test_loader):\n",
        "        batch, masked_tokens = mask_tokens(batch)\n",
        "\n",
        "        gen_out, clf_out = model(batch['tokenized'].to(device),\n",
        "                                 batch['att_mask'].to(device))\n",
        "\n",
        "        gen_loss = mlm_criterion(gen_out.view(-1, vocab_size),\n",
        "                                 masked_tokens.view(-1).to(device))\n",
        "        clf_loss = clf_criterion(clf_out,\n",
        "                                 batch['label'].view(-1).to(device))\n",
        "\n",
        "        test_mlm_loss.append(gen_loss.item())\n",
        "        test_clf_loss.append(clf_loss.item())\n",
        "\n",
        "    print('\\n')\n",
        "    print(f\"Validation MLM loss: {np.mean(test_mlm_loss):.4f}\")\n",
        "    print(f\"Validation CLS loss: {np.mean(test_clf_loss):.4f}\")"
      ],
      "metadata": {
        "colab": {
          "base_uri": "https://localhost:8080/"
        },
        "id": "p9496ZDTMvne",
        "outputId": "9861da0a-f484-4eff-aa44-a3fe91e78d9f"
      },
      "execution_count": 143,
      "outputs": [
        {
          "output_type": "stream",
          "name": "stderr",
          "text": [
            "100%|██████████| 78/78 [00:28<00:00,  2.74it/s]"
          ]
        },
        {
          "output_type": "stream",
          "name": "stdout",
          "text": [
            "\n",
            "\n",
            "Validation MLM loss: 6.6763\n",
            "Validation CLS loss: 0.7020\n"
          ]
        },
        {
          "output_type": "stream",
          "name": "stderr",
          "text": [
            "\n"
          ]
        }
      ]
    },
    {
      "cell_type": "markdown",
      "source": [
        "### $\\text{Inference}$"
      ],
      "metadata": {
        "id": "HnvbxW3qToYo"
      }
    },
    {
      "cell_type": "code",
      "source": [
        "model.eval()\n",
        "\n",
        "with torch.no_grad():\n",
        "    msg = 'It`s a good film, I watched it twice'\n",
        "\n",
        "    encoded_msg = tokenizer.encode_plus(text=msg,\n",
        "                                        max_length=MAX_SEQ_LEN,\n",
        "                                        add_special_tokens=True,\n",
        "                                        truncation=True,\n",
        "                                        padding=\"max_length\",\n",
        "                                        return_attention_mask=True,\n",
        "                                        return_tensors=\"pt\")\n",
        "\n",
        "    _, cls_out = model(encoded_msg[\"input_ids\"].to(device),\n",
        "                       encoded_msg[\"attention_mask\"].to(device))\n",
        "\n",
        "    cls_out = cls_out.argmax(dim=-1).item()\n",
        "\n",
        "    print(f\"msg: {msg}\")\n",
        "    print(f\"label: 1\")\n",
        "    print(f\"predict: {cls_out}\")"
      ],
      "metadata": {
        "colab": {
          "base_uri": "https://localhost:8080/"
        },
        "id": "Tr7mqMZgrlBk",
        "outputId": "3b588382-4f21-41b6-cb14-3c9d1d812641"
      },
      "execution_count": 144,
      "outputs": [
        {
          "output_type": "stream",
          "name": "stdout",
          "text": [
            "msg: It`s a good film, I watched it twice\n",
            "label: 1\n",
            "predict: 1\n"
          ]
        }
      ]
    }
  ]
}