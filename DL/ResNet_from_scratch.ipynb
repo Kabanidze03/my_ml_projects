{
  "cells": [
    {
      "cell_type": "markdown",
      "source": [
        "## $\\text {Import libraries}$"
      ],
      "metadata": {
        "id": "XeM_v8u3zZfc"
      }
    },
    {
      "cell_type": "code",
      "execution_count": 1,
      "metadata": {
        "id": "QkCS9Ag6lkgR"
      },
      "outputs": [],
      "source": [
        "import torch\n",
        "import numpy as np\n",
        "import pandas as pd\n",
        "import torch.nn as nn\n",
        "import seaborn as sns\n",
        "import matplotlib.pyplot as plt\n",
        "from tqdm import tqdm\n",
        "from keras.datasets import cifar10\n",
        "from torchvision import transforms\n",
        "from torch.optim import SGD, AdamW\n",
        "from sklearn.metrics import accuracy_score\n",
        "from torch.utils.data import Dataset, DataLoader\n",
        "from sklearn.model_selection import train_test_split"
      ]
    },
    {
      "cell_type": "code",
      "execution_count": 2,
      "metadata": {
        "id": "IUYAZD7vl22o"
      },
      "outputs": [],
      "source": [
        "custom = {\"axes.edgecolor\": \"black\", \"grid.linestyle\": \"dashed\", \"grid.color\": \"gray\"}\n",
        "sns.set_style(\"darkgrid\", rc = custom)"
      ]
    },
    {
      "cell_type": "markdown",
      "source": [
        "## $\\text {Importing data}$"
      ],
      "metadata": {
        "id": "6wLtIEFEzmbn"
      }
    },
    {
      "cell_type": "code",
      "execution_count": 3,
      "metadata": {
        "colab": {
          "base_uri": "https://localhost:8080/"
        },
        "id": "XBNMSjjsl5or",
        "outputId": "33e0f684-e02b-408d-a5cb-36d490bbfd7a"
      },
      "outputs": [
        {
          "output_type": "stream",
          "name": "stdout",
          "text": [
            "Downloading data from https://www.cs.toronto.edu/~kriz/cifar-10-python.tar.gz\n",
            "\u001b[1m170498071/170498071\u001b[0m \u001b[32m━━━━━━━━━━━━━━━━━━━━\u001b[0m\u001b[37m\u001b[0m \u001b[1m19s\u001b[0m 0us/step\n"
          ]
        }
      ],
      "source": [
        "(X_train, y_train), (X_test, y_test) = cifar10.load_data()"
      ]
    },
    {
      "cell_type": "markdown",
      "metadata": {
        "id": "FhblS_XKmaGZ"
      },
      "source": [
        "## $\\text {Let`s normilize values of every pixel since it will be better for our model}$"
      ]
    },
    {
      "cell_type": "code",
      "execution_count": 4,
      "metadata": {
        "id": "yr6M6lDjmP6V"
      },
      "outputs": [],
      "source": [
        "X_train = X_train / 255.0\n",
        "X_test = X_test / 255.0"
      ]
    },
    {
      "cell_type": "code",
      "execution_count": 5,
      "metadata": {
        "id": "PUE-9qpQmU_u"
      },
      "outputs": [],
      "source": [
        "def print_img(img, label):\n",
        "    fig = plt.figure(figsize=(4, 4))\n",
        "    plt.imshow(img)\n",
        "    plt.axis('off')\n",
        "    plt.title(label)"
      ]
    },
    {
      "cell_type": "code",
      "execution_count": 6,
      "metadata": {
        "colab": {
          "base_uri": "https://localhost:8080/",
          "height": 367
        },
        "id": "S9rmiITZnheH",
        "outputId": "29e7f5f8-034c-4176-b3f1-79c677ff51d3"
      },
      "outputs": [
        {
          "output_type": "display_data",
          "data": {
            "text/plain": [
              "<Figure size 400x400 with 1 Axes>"
            ],
            "image/png": "[encoded data removed]"
          },
          "metadata": {}
        }
      ],
      "source": [
        "print_img(X_train[1], y_train[1])"
      ]
    },
    {
      "cell_type": "markdown",
      "source": [
        "## $\\text {Making class Dataset}$"
      ],
      "metadata": {
        "id": "swfNZt6s0G-w"
      }
    },
    {
      "cell_type": "code",
      "execution_count": 7,
      "metadata": {
        "id": "eege74JLnncR"
      },
      "outputs": [],
      "source": [
        "class CIFAR10(Dataset):\n",
        "    def __init__(self, X, y):\n",
        "        self.X = torch.from_numpy(X.transpose(0, 3, 1, 2)).type(torch.float32)\n",
        "        self.y = torch.from_numpy(y)\n",
        "        self.preprocess = transforms.Compose([\n",
        "            transforms.Resize(256),\n",
        "            transforms.Normalize(mean=(0.5, 0.5, 0.5), std=(0.5, 0.5, 0.5)) # Нормализуем среднее значение всех пикселей и их квадратичное отклонение\n",
        "        ])\n",
        "\n",
        "    def __getitem__(self, index):\n",
        "        return self.preprocess(self.X[index]), self.y[index]\n",
        "\n",
        "    def __len__(self):\n",
        "        return len(self.X)"
      ]
    },
    {
      "cell_type": "code",
      "execution_count": 8,
      "metadata": {
        "id": "rQNL5m0iqMo_"
      },
      "outputs": [],
      "source": [
        "train_data = CIFAR10(X_train, y_train)\n",
        "test_data = CIFAR10(X_test, y_test)"
      ]
    },
    {
      "cell_type": "code",
      "execution_count": 9,
      "metadata": {
        "id": "b8N5bO6DqSuL"
      },
      "outputs": [],
      "source": [
        "train_loader = DataLoader(train_data, 64, shuffle=True)\n",
        "test_loader = DataLoader(test_data, 64)"
      ]
    },
    {
      "cell_type": "markdown",
      "source": [
        "### $\\text{For our NN I`ll make ResidualBlock to simplify the code}$"
      ],
      "metadata": {
        "id": "lF3nPcc7DBVM"
      }
    },
    {
      "cell_type": "code",
      "execution_count": 10,
      "metadata": {
        "id": "eXFg0WilkKNW"
      },
      "outputs": [],
      "source": [
        "class ResidualBlock(nn.Module):\n",
        "    def __init__(self, in_channels, out_channels, stride, is_identity=True):\n",
        "        super(ResidualBlock, self).__init__()\n",
        "        self.in_channels = in_channels\n",
        "        self.out_channels = out_channels\n",
        "        self.stride = stride\n",
        "        self.is_identity = is_identity\n",
        "        self.ReLU = nn.ReLU()\n",
        "\n",
        "        if not self.is_identity or in_channels != out_channels or self.stride != 1:\n",
        "            self.identity_conv = nn.Conv2d(in_channels, out_channels, kernel_size=1,\n",
        "                                           stride=self.stride)\n",
        "        else:\n",
        "            self.identity_conv = None\n",
        "\n",
        "\n",
        "        self.layer1 = nn.Sequential(\n",
        "            nn.Conv2d(kernel_size=3, in_channels=self.in_channels,\n",
        "                    out_channels=self.out_channels, stride=self.stride,\n",
        "                    padding=1),\n",
        "            nn.BatchNorm2d(self.out_channels),\n",
        "            nn.ReLU()\n",
        "        )\n",
        "\n",
        "        self.layer2 = nn.Sequential(\n",
        "            nn.Conv2d(kernel_size=3, in_channels=self.out_channels,\n",
        "                    out_channels = self.out_channels, stride=1,\n",
        "                    padding=1),\n",
        "            nn.BatchNorm2d(self.out_channels)\n",
        "        )\n",
        "\n",
        "    def forward(self, X):\n",
        "        out = self.layer1(X)\n",
        "        # print(out.shape)\n",
        "        out = self.layer2(out)\n",
        "        # print(out.shape)\n",
        "        residual = self.identity_conv(X) if self.identity_conv != None else X\n",
        "        out = out + residual\n",
        "\n",
        "        out = self.ReLU(out)\n",
        "\n",
        "        return out\n"
      ]
    },
    {
      "cell_type": "markdown",
      "source": [
        "### $\\text{Model structure}$"
      ],
      "metadata": {
        "id": "QKEnoBfWDR7N"
      }
    },
    {
      "cell_type": "code",
      "execution_count": 11,
      "metadata": {
        "id": "ER2zpKGIrih1"
      },
      "outputs": [],
      "source": [
        "class ResNet34(nn.Module):     # nn.Module - функционал torch.nn\n",
        "    def __init__(self, in_channels):\n",
        "        super(ResNet34, self).__init__()\n",
        "        self.layer1 = nn.Sequential(\n",
        "            nn.Conv2d(in_channels, 64, kernel_size=7, stride = 2),\n",
        "            nn.BatchNorm2d(64),\n",
        "            nn.ReLU(),\n",
        "            nn.MaxPool2d(kernel_size=3, stride=2)\n",
        "        )\n",
        "        self.layer2 = nn.Sequential(\n",
        "            ResidualBlock(64, 64, 1),\n",
        "            ResidualBlock(64, 64, 1),\n",
        "            ResidualBlock(64, 64, 1)\n",
        "        )\n",
        "        self.layer3 = nn.Sequential(\n",
        "            ResidualBlock(64, 128, 2, is_identity=False),\n",
        "            ResidualBlock(128, 128, 1),\n",
        "            ResidualBlock(128, 128, 1),\n",
        "            ResidualBlock(128, 128, 1)\n",
        "        )\n",
        "        self.layer4 = nn.Sequential(\n",
        "            ResidualBlock(128, 256, 2, is_identity=False),\n",
        "            ResidualBlock(256, 256, 1),\n",
        "            ResidualBlock(256, 256, 1),\n",
        "            ResidualBlock(256, 256, 1),\n",
        "            ResidualBlock(256, 256, 1),\n",
        "            ResidualBlock(256, 256, 1)\n",
        "        )\n",
        "        self.layer5 = nn.Sequential(\n",
        "            ResidualBlock(256, 512, 2, is_identity=False),\n",
        "            ResidualBlock(512, 512, 1),\n",
        "            ResidualBlock(512, 512, 1)\n",
        "        )\n",
        "        self.layer6 = nn.Sequential(\n",
        "            nn.AvgPool2d(7)\n",
        "        )\n",
        "        self.layer7 = nn.Sequential(\n",
        "            nn.Linear(512, 10)\n",
        "        )\n",
        "\n",
        "\n",
        "    def forward(self, X):\n",
        "        X = self.layer1(X)\n",
        "        X = self.layer2(X)\n",
        "        X = self.layer3(X)\n",
        "        X = self.layer4(X)\n",
        "        X = self.layer5(X)\n",
        "        X = self.layer6(X)\n",
        "        # print(X, X.shape)\n",
        "        X = X.flatten(start_dim=1)\n",
        "        X = self.layer7(X)\n",
        "        return X"
      ]
    },
    {
      "cell_type": "code",
      "execution_count": 12,
      "metadata": {
        "id": "4Jc3TYmq93fg"
      },
      "outputs": [],
      "source": [
        "# Это нужно для выбора устройства, на котором мы будем обучать. 'cuda' - видеокарта\n",
        "device = torch.device('cuda' if torch.cuda.is_available() else 'cpu')"
      ]
    },
    {
      "cell_type": "markdown",
      "source": [
        "### $\\text{Training process}$"
      ],
      "metadata": {
        "id": "qJVg0OV_DbaL"
      }
    },
    {
      "cell_type": "code",
      "execution_count": 13,
      "metadata": {
        "id": "WLgnVzg_4BDh"
      },
      "outputs": [],
      "source": [
        "epochs = 10\n",
        "lr = 0.001\n",
        "\n",
        "net = ResNet34(3).to(device=device)"
      ]
    },
    {
      "cell_type": "code",
      "execution_count": 14,
      "metadata": {
        "id": "0xluPUcG3tIf"
      },
      "outputs": [],
      "source": [
        "optimizer = SGD(params = net.parameters(), weight_decay = 0.0001, momentum=0.9, lr=lr)\n",
        "criterion = nn.CrossEntropyLoss()"
      ]
    },
    {
      "cell_type": "code",
      "execution_count": 15,
      "metadata": {
        "colab": {
          "base_uri": "https://localhost:8080/"
        },
        "id": "g0oTHOmi5dtx",
        "outputId": "794363a7-c54e-4c86-a385-a721f08d2d22"
      },
      "outputs": [
        {
          "output_type": "stream",
          "name": "stderr",
          "text": [
            "  0%|          | 0/782 [00:00<?, ?it/s]/usr/local/lib/python3.11/dist-packages/torch/autograd/graph.py:823: UserWarning: Attempting to run cuBLAS, but there was no current CUDA context! Attempting to set the primary context... (Triggered internally at /pytorch/aten/src/ATen/cuda/CublasHandlePool.cpp:180.)\n",
            "  return Variable._execution_engine.run_backward(  # Calls into the C++ engine to run the backward pass\n",
            "100%|██████████| 782/782 [04:54<00:00,  2.65it/s]\n"
          ]
        },
        {
          "output_type": "stream",
          "name": "stdout",
          "text": [
            "1.3630774373288654\n"
          ]
        },
        {
          "output_type": "stream",
          "name": "stderr",
          "text": [
            "100%|██████████| 782/782 [05:02<00:00,  2.58it/s]\n"
          ]
        },
        {
          "output_type": "stream",
          "name": "stdout",
          "text": [
            "0.8147130246891086\n"
          ]
        },
        {
          "output_type": "stream",
          "name": "stderr",
          "text": [
            "100%|██████████| 782/782 [05:03<00:00,  2.58it/s]\n"
          ]
        },
        {
          "output_type": "stream",
          "name": "stdout",
          "text": [
            "0.5754992723693628\n"
          ]
        },
        {
          "output_type": "stream",
          "name": "stderr",
          "text": [
            "100%|██████████| 782/782 [05:03<00:00,  2.58it/s]\n"
          ]
        },
        {
          "output_type": "stream",
          "name": "stdout",
          "text": [
            "0.4311818760984084\n"
          ]
        },
        {
          "output_type": "stream",
          "name": "stderr",
          "text": [
            "100%|██████████| 782/782 [05:03<00:00,  2.58it/s]\n"
          ]
        },
        {
          "output_type": "stream",
          "name": "stdout",
          "text": [
            "0.31440300589708414\n"
          ]
        },
        {
          "output_type": "stream",
          "name": "stderr",
          "text": [
            "100%|██████████| 782/782 [05:03<00:00,  2.58it/s]\n"
          ]
        },
        {
          "output_type": "stream",
          "name": "stdout",
          "text": [
            "0.2234259001824938\n"
          ]
        },
        {
          "output_type": "stream",
          "name": "stderr",
          "text": [
            "100%|██████████| 782/782 [05:02<00:00,  2.58it/s]\n"
          ]
        },
        {
          "output_type": "stream",
          "name": "stdout",
          "text": [
            "0.14725706414998416\n"
          ]
        },
        {
          "output_type": "stream",
          "name": "stderr",
          "text": [
            "100%|██████████| 782/782 [05:03<00:00,  2.58it/s]\n"
          ]
        },
        {
          "output_type": "stream",
          "name": "stdout",
          "text": [
            "0.10484600291156289\n"
          ]
        },
        {
          "output_type": "stream",
          "name": "stderr",
          "text": [
            "100%|██████████| 782/782 [05:03<00:00,  2.58it/s]\n"
          ]
        },
        {
          "output_type": "stream",
          "name": "stdout",
          "text": [
            "0.07708448883088882\n"
          ]
        },
        {
          "output_type": "stream",
          "name": "stderr",
          "text": [
            "100%|██████████| 782/782 [05:03<00:00,  2.58it/s]"
          ]
        },
        {
          "output_type": "stream",
          "name": "stdout",
          "text": [
            "0.05226446607369272\n"
          ]
        },
        {
          "output_type": "stream",
          "name": "stderr",
          "text": [
            "\n"
          ]
        }
      ],
      "source": [
        "net.train()\n",
        "\n",
        "for epoch in range(epochs):\n",
        "    epoch_loss = []\n",
        "    for batch in tqdm(train_loader):\n",
        "        X_batch, y_batch = batch\n",
        "        optimizer.zero_grad()\n",
        "        out = net(X_batch.to(device=device))\n",
        "        loss = criterion(out.cpu(), y_batch.squeeze())\n",
        "        loss.backward()\n",
        "        optimizer.step()\n",
        "        epoch_loss.append(loss.item())\n",
        "    print(np.mean(epoch_loss))"
      ]
    },
    {
      "cell_type": "markdown",
      "source": [
        "## $\\text{Inference}$"
      ],
      "metadata": {
        "id": "D87fhSp2Ttaf"
      }
    },
    {
      "cell_type": "code",
      "execution_count": 16,
      "metadata": {
        "id": "vgizdxMDxv4r",
        "colab": {
          "base_uri": "https://localhost:8080/"
        },
        "outputId": "8a9974d3-3ecd-4d14-dab3-d9b0817d401a"
      },
      "outputs": [
        {
          "output_type": "stream",
          "name": "stdout",
          "text": [
            "Accuracy of model = 0.8067277070063694\n"
          ]
        }
      ],
      "source": [
        "net.eval()\n",
        "\n",
        "accuracies = []\n",
        "\n",
        "for batch in test_loader:\n",
        "    with torch.no_grad():\n",
        "        out = net(batch[0].to(device))\n",
        "    predictions = out.argmax(axis=-1)\n",
        "    accuracies.append(accuracy_score(batch[1], predictions.cpu()))\n",
        "print(f'Accuracy of model = {np.mean(accuracies)}')"
      ]
    }
  ],
  "metadata": {
    "colab": {
      "provenance": [],
      "gpuType": "T4"
    },
    "kernelspec": {
      "display_name": "Python 3",
      "name": "python3"
    },
    "language_info": {
      "name": "python"
    },
    "accelerator": "GPU"
  },
  "nbformat": 4,
  "nbformat_minor": 0
}