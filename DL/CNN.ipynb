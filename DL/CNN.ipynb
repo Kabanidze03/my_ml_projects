{
  "nbformat": 4,
  "nbformat_minor": 0,
  "metadata": {
    "colab": {
      "provenance": []
    },
    "kernelspec": {
      "name": "python3",
      "display_name": "Python 3"
    },
    "language_info": {
      "name": "python"
    }
  },
  "cells": [
    {
      "cell_type": "markdown",
      "source": [
        "## ***Importing libraries***"
      ],
      "metadata": {
        "id": "vUc7ovPGxX0x"
      }
    },
    {
      "cell_type": "code",
      "execution_count": 1,
      "metadata": {
        "id": "I6ty97DTOsG8"
      },
      "outputs": [],
      "source": [
        "import torch\n",
        "import numpy as np\n",
        "import pandas as pd\n",
        "import seaborn as sns\n",
        "import torch.nn as nn\n",
        "import matplotlib.pyplot as plt\n",
        "from tqdm import tqdm\n",
        "from torch.optim import AdamW\n",
        "from keras.datasets import mnist\n",
        "from sklearn.metrics import accuracy_score\n",
        "from torch.utils.data import Dataset, DataLoader\n",
        "from sklearn.model_selection import train_test_split"
      ]
    },
    {
      "cell_type": "code",
      "source": [
        "custom = {\"axes.edgecolor\": \"black\", \"grid.linestyle\": \"dashed\", \"grid.color\": \"gray\"}\n",
        "sns.set_style(\"darkgrid\", rc = custom)"
      ],
      "metadata": {
        "id": "5hPZxHOqTImQ"
      },
      "execution_count": 2,
      "outputs": []
    },
    {
      "cell_type": "code",
      "source": [
        "(X_train, y_train), (X_test, y_test) = mnist.load_data()"
      ],
      "metadata": {
        "id": "gtyTXCOCTMwL"
      },
      "execution_count": 8,
      "outputs": []
    },
    {
      "cell_type": "markdown",
      "source": [
        "## ***Normilize values of pixels intensity***"
      ],
      "metadata": {
        "id": "29kR_6Xazfkk"
      }
    },
    {
      "cell_type": "code",
      "source": [
        "X_train = X_train / 255.0\n",
        "X_test = X_test / 255.0"
      ],
      "metadata": {
        "id": "aeFva-YNTYu0"
      },
      "execution_count": 12,
      "outputs": []
    },
    {
      "cell_type": "code",
      "source": [
        "def plot_img(img, label):\n",
        "    fig = plt.figure(figsize=(3, 3))\n",
        "    plt.imshow(img.reshape(28, 28))\n",
        "    plt.xticks([])\n",
        "    plt.yticks([])\n",
        "    plt.title(label)"
      ],
      "metadata": {
        "id": "Vbqbz4P9U4MR"
      },
      "execution_count": 13,
      "outputs": []
    },
    {
      "cell_type": "code",
      "source": [
        "plot_img(X_train[0], f'label: {y_train[0]}')"
      ],
      "metadata": {
        "colab": {
          "base_uri": "https://localhost:8080/",
          "height": 290
        },
        "id": "Ll4F4UoCVx5y",
        "outputId": "43d7cb26-f772-4535-c1de-72bb4833551c"
      },
      "execution_count": 15,
      "outputs": [
        {
          "output_type": "display_data",
          "data": {
            "text/plain": [
              "<Figure size 300x300 with 1 Axes>"
            ],
            "image/png": "[encoded data removed]"
          },
          "metadata": {}
        }
      ]
    },
    {
      "cell_type": "markdown",
      "source": [
        "## ***Making Dataset-class for images***"
      ],
      "metadata": {
        "id": "WkYdXIOjxgve"
      }
    },
    {
      "cell_type": "code",
      "source": [
        "class MNIST(Dataset):\n",
        "    def __init__(self, data, labels):\n",
        "        self.data = data\n",
        "        self.labels = labels\n",
        "\n",
        "    def __len__(self):\n",
        "        return len(self.data)\n",
        "\n",
        "    def __getitem__(self, index):\n",
        "        return torch.tensor(self.data[index]), torch.tensor(self.labels[index])"
      ],
      "metadata": {
        "id": "SkMP1bCcQUdt"
      },
      "execution_count": 16,
      "outputs": []
    },
    {
      "cell_type": "code",
      "source": [
        "train_data = MNIST(X_train, y_train)\n",
        "test_data = MNIST(X_test, y_test)"
      ],
      "metadata": {
        "id": "jRkVGoFMRwwM"
      },
      "execution_count": 17,
      "outputs": []
    },
    {
      "cell_type": "code",
      "source": [
        "train_loader = DataLoader(train_data, 32, shuffle=True, drop_last=True)\n",
        "test_loader = DataLoader(test_data, 32)"
      ],
      "metadata": {
        "id": "gb4zE07XULGZ"
      },
      "execution_count": 18,
      "outputs": []
    },
    {
      "cell_type": "code",
      "source": [
        "train_data[0][0].shape"
      ],
      "metadata": {
        "colab": {
          "base_uri": "https://localhost:8080/"
        },
        "id": "Mr3hHv8d1OkA",
        "outputId": "b9203c48-56fd-4874-d8de-f4933510cca9"
      },
      "execution_count": 21,
      "outputs": [
        {
          "output_type": "execute_result",
          "data": {
            "text/plain": [
              "torch.Size([28, 28])"
            ]
          },
          "metadata": {},
          "execution_count": 21
        }
      ]
    },
    {
      "cell_type": "markdown",
      "source": [
        "## ***Making our NN architecture***"
      ],
      "metadata": {
        "id": "7b5BXDiRxy05"
      }
    },
    {
      "cell_type": "code",
      "source": [
        "class Net(nn.Module):\n",
        "    def __init__(self, hidden_dims, output_dim, stride, padding, channels, kernel_size):\n",
        "        super(Net, self).__init__()\n",
        "        self.convolutions = nn.Sequential(\n",
        "            nn.Conv2d(\n",
        "                in_channels=channels,\n",
        "                out_channels=6,\n",
        "                kernel_size=kernel_size,\n",
        "                stride=stride,\n",
        "                padding=padding\n",
        "            ),\n",
        "            nn.MaxPool2d(kernel_size=2, stride=2, padding=padding),\n",
        "            nn.Conv2d(\n",
        "                in_channels=6,\n",
        "                out_channels=16,\n",
        "                kernel_size=kernel_size\n",
        "            ),\n",
        "            nn.MaxPool2d(kernel_size=2, stride=2, padding=padding),\n",
        "        )\n",
        "\n",
        "        self.layers = nn.Sequential(\n",
        "            nn.Linear(400, hidden_dims[0]),\n",
        "            nn.ReLU(),\n",
        "            nn.Linear(hidden_dims[0], hidden_dims[1]),\n",
        "            nn.ReLU(),\n",
        "            nn.Linear(hidden_dims[1], output_dim)\n",
        "        )\n",
        "    def forward(self, x):\n",
        "        x = self.convolutions(x)\n",
        "        x = x.flatten(start_dim=1)\n",
        "        return self.layers(x)"
      ],
      "metadata": {
        "id": "037dRO7WU9I0"
      },
      "execution_count": 70,
      "outputs": []
    },
    {
      "cell_type": "code",
      "source": [
        "stride = 1\n",
        "padding = 0\n",
        "channels = 1\n",
        "kernel_size = 3"
      ],
      "metadata": {
        "id": "_fyagz9Bw_CP"
      },
      "execution_count": 71,
      "outputs": []
    },
    {
      "cell_type": "code",
      "source": [
        "input_dim = 784\n",
        "hidden_dims = [512, 256]\n",
        "output_dim = np.unique(y_train).shape[0]\n",
        "lr = 0.001\n",
        "epochs = 5"
      ],
      "metadata": {
        "id": "kTac2ivxZ38Z"
      },
      "execution_count": 77,
      "outputs": []
    },
    {
      "cell_type": "code",
      "source": [
        "model = Net(hidden_dims, output_dim, stride, padding, channels, kernel_size)"
      ],
      "metadata": {
        "id": "fFnIGA3MVPv_"
      },
      "execution_count": 78,
      "outputs": []
    },
    {
      "cell_type": "code",
      "source": [
        "criterion = nn.CrossEntropyLoss()\n",
        "optimizer = AdamW(params=model.parameters(), lr=lr)"
      ],
      "metadata": {
        "id": "MsXz6zigbTS8"
      },
      "execution_count": 79,
      "outputs": []
    },
    {
      "cell_type": "markdown",
      "source": [
        "## ***Training process***"
      ],
      "metadata": {
        "id": "NTIl_tb-yHbU"
      }
    },
    {
      "cell_type": "code",
      "source": [
        "model.train()\n",
        "\n",
        "for epoch in range(epochs):\n",
        "    epoch_loss = []\n",
        "    for batch in tqdm(train_loader):\n",
        "        X_batch, y_batch = batch\n",
        "        optimizer.zero_grad()\n",
        "        outputs = model(X_batch.to(torch.float32).unsqueeze(1))\n",
        "        loss = criterion(outputs, y_batch)\n",
        "        loss.backward()\n",
        "        optimizer.step()\n",
        "        epoch_loss.append(loss.item())\n",
        "    print(np.mean(epoch_loss))\n"
      ],
      "metadata": {
        "colab": {
          "base_uri": "https://localhost:8080/"
        },
        "id": "SQio1py0daz2",
        "outputId": "de6c1c63-e4e1-4b50-cba8-e0ad07f422eb"
      },
      "execution_count": 80,
      "outputs": [
        {
          "output_type": "stream",
          "name": "stderr",
          "text": [
            "100%|██████████| 1875/1875 [00:29<00:00, 63.59it/s]\n"
          ]
        },
        {
          "output_type": "stream",
          "name": "stdout",
          "text": [
            "0.18255094152769694\n"
          ]
        },
        {
          "output_type": "stream",
          "name": "stderr",
          "text": [
            "100%|██████████| 1875/1875 [00:30<00:00, 61.26it/s]\n"
          ]
        },
        {
          "output_type": "stream",
          "name": "stdout",
          "text": [
            "0.06177138219514551\n"
          ]
        },
        {
          "output_type": "stream",
          "name": "stderr",
          "text": [
            "100%|██████████| 1875/1875 [00:28<00:00, 64.98it/s]\n"
          ]
        },
        {
          "output_type": "stream",
          "name": "stdout",
          "text": [
            "0.04364168322142214\n"
          ]
        },
        {
          "output_type": "stream",
          "name": "stderr",
          "text": [
            "100%|██████████| 1875/1875 [00:29<00:00, 64.48it/s]\n"
          ]
        },
        {
          "output_type": "stream",
          "name": "stdout",
          "text": [
            "0.03279126876489027\n"
          ]
        },
        {
          "output_type": "stream",
          "name": "stderr",
          "text": [
            "100%|██████████| 1875/1875 [00:28<00:00, 64.77it/s]"
          ]
        },
        {
          "output_type": "stream",
          "name": "stdout",
          "text": [
            "0.025502502326017324\n"
          ]
        },
        {
          "output_type": "stream",
          "name": "stderr",
          "text": [
            "\n"
          ]
        }
      ]
    },
    {
      "cell_type": "code",
      "source": [
        "model.eval()\n",
        "accuracies = []\n",
        "\n",
        "for batch in test_loader:\n",
        "    with torch.no_grad():\n",
        "        out = model(batch[0].unsqueeze(1).to(torch.float32))\n",
        "    predictions = out.argmax(axis=-1)\n",
        "    accuracies.append(accuracy_score(predictions, batch[1]))\n",
        "\n",
        "print(np.mean(accuracies))"
      ],
      "metadata": {
        "colab": {
          "base_uri": "https://localhost:8080/"
        },
        "id": "FHpgmZCoeXfk",
        "outputId": "2b99991b-2b83-4e6b-9d4b-20bb503d42b3"
      },
      "execution_count": 82,
      "outputs": [
        {
          "output_type": "stream",
          "name": "stdout",
          "text": [
            "0.9886182108626198\n"
          ]
        }
      ]
    }
  ]
}
