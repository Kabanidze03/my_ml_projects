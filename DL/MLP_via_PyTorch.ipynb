{
  "nbformat": 4,
  "nbformat_minor": 0,
  "metadata": {
    "colab": {
      "provenance": []
    },
    "kernelspec": {
      "name": "python3",
      "display_name": "Python 3"
    },
    "language_info": {
      "name": "python"
    }
  },
  "cells": [
    {
      "cell_type": "markdown",
      "source": [
        "## ***Import libraries***"
      ],
      "metadata": {
        "id": "c4rIrCfzurrd"
      }
    },
    {
      "cell_type": "code",
      "execution_count": 1,
      "metadata": {
        "id": "I6ty97DTOsG8"
      },
      "outputs": [],
      "source": [
        "import torch\n",
        "import torch.nn as nn\n",
        "from torch.utils.data import Dataset, DataLoader\n",
        "from torch.optim import AdamW\n",
        "import numpy as np\n",
        "import pandas as pd\n",
        "import matplotlib.pyplot as plt\n",
        "import seaborn as sns\n",
        "from tqdm import tqdm\n",
        "from sklearn.model_selection import train_test_split\n",
        "from sklearn.metrics import accuracy_score\n",
        "from keras.datasets import mnist"
      ]
    },
    {
      "cell_type": "code",
      "source": [
        "custom = {\"axes.edgecolor\": \"black\", \"grid.linestyle\": \"dashed\", \"grid.color\": \"gray\"}\n",
        "sns.set_style(\"darkgrid\", rc = custom)"
      ],
      "metadata": {
        "id": "5hPZxHOqTImQ"
      },
      "execution_count": 2,
      "outputs": []
    },
    {
      "cell_type": "markdown",
      "source": [
        "## ***Load data MNIST***"
      ],
      "metadata": {
        "id": "o3vHEpsnvJOq"
      }
    },
    {
      "cell_type": "code",
      "source": [
        "(X_train, y_train), (X_test, y_test) = mnist.load_data()"
      ],
      "metadata": {
        "colab": {
          "base_uri": "https://localhost:8080/"
        },
        "id": "gtyTXCOCTMwL",
        "outputId": "7dd7cd8a-a300-4483-dbe3-642cebf8d6eb"
      },
      "execution_count": 3,
      "outputs": [
        {
          "output_type": "stream",
          "name": "stdout",
          "text": [
            "Downloading data from https://storage.googleapis.com/tensorflow/tf-keras-datasets/mnist.npz\n",
            "\u001b[1m11490434/11490434\u001b[0m \u001b[32m━━━━━━━━━━━━━━━━━━━━\u001b[0m\u001b[37m\u001b[0m \u001b[1m0s\u001b[0m 0us/step\n"
          ]
        }
      ]
    },
    {
      "cell_type": "code",
      "source": [
        "y_train[0:10]"
      ],
      "metadata": {
        "colab": {
          "base_uri": "https://localhost:8080/"
        },
        "id": "vd_LRXKmn5sk",
        "outputId": "ec0e07ff-b14e-4414-9eaf-8fa4ace6e432"
      },
      "execution_count": 4,
      "outputs": [
        {
          "output_type": "execute_result",
          "data": {
            "text/plain": [
              "array([5, 0, 4, 1, 9, 2, 1, 3, 1, 4], dtype=uint8)"
            ]
          },
          "metadata": {},
          "execution_count": 4
        }
      ]
    },
    {
      "cell_type": "code",
      "source": [
        "X_train = X_train.reshape(X_train.shape[0], -1) / 255.0\n",
        "X_test = X_test.reshape(X_test.shape[0], -1) / 255.0"
      ],
      "metadata": {
        "id": "aeFva-YNTYu0"
      },
      "execution_count": 5,
      "outputs": []
    },
    {
      "cell_type": "code",
      "source": [
        "def plot_img(img, label):\n",
        "    fig = plt.figure(figsize=(3, 3))\n",
        "    plt.imshow(img.reshape(28, 28))\n",
        "    plt.xticks([])\n",
        "    plt.yticks([])\n",
        "    plt.title(label)"
      ],
      "metadata": {
        "id": "Vbqbz4P9U4MR"
      },
      "execution_count": 6,
      "outputs": []
    },
    {
      "cell_type": "code",
      "source": [
        "plot_img(X_train[0], f'label: {y_train[0]}')"
      ],
      "metadata": {
        "colab": {
          "base_uri": "https://localhost:8080/",
          "height": 290
        },
        "id": "Ll4F4UoCVx5y",
        "outputId": "924106b1-1842-434f-9fff-7341955ea5db"
      },
      "execution_count": 7,
      "outputs": [
        {
          "output_type": "display_data",
          "data": {
            "text/plain": [
              "<Figure size 300x300 with 1 Axes>"
            ],
            "image/png": "[encoded data removed]"
          },
          "metadata": {}
        }
      ]
    },
    {
      "cell_type": "markdown",
      "source": [
        "## ***Create class Dataset***"
      ],
      "metadata": {
        "id": "ML3UNui_vSAR"
      }
    },
    {
      "cell_type": "code",
      "source": [
        "class MNIST(Dataset):\n",
        "    def __init__(self, data, labels):\n",
        "        self.data = data\n",
        "        self.labels = labels\n",
        "\n",
        "    def __len__(self):\n",
        "        return len(self.data)\n",
        "\n",
        "    def __getitem__(self, index):\n",
        "        return torch.tensor(self.data[index]), torch.tensor(self.labels[index])"
      ],
      "metadata": {
        "id": "SkMP1bCcQUdt"
      },
      "execution_count": 8,
      "outputs": []
    },
    {
      "cell_type": "code",
      "source": [
        "train_data = MNIST(X_train, y_train)\n",
        "test_data = MNIST(X_test, y_test)"
      ],
      "metadata": {
        "id": "jRkVGoFMRwwM"
      },
      "execution_count": 9,
      "outputs": []
    },
    {
      "cell_type": "code",
      "source": [
        "train_loader = DataLoader(train_data, 32, shuffle=True, drop_last=True)\n",
        "test_loader = DataLoader(test_data, 32)"
      ],
      "metadata": {
        "id": "gb4zE07XULGZ"
      },
      "execution_count": 10,
      "outputs": []
    },
    {
      "cell_type": "markdown",
      "source": [
        "## ***Create our Network***"
      ],
      "metadata": {
        "id": "iQHueUkDvrsI"
      }
    },
    {
      "cell_type": "code",
      "source": [
        "class Net(nn.Module):\n",
        "    def __init__(self, input_dim, hidden_dims, output_dim):\n",
        "        super(Net, self).__init__()\n",
        "        self.layers = nn.Sequential(\n",
        "            nn.Linear(input_dim, hidden_dims[0]),\n",
        "            nn.ReLU(),\n",
        "            nn.Linear(hidden_dims[0], hidden_dims[1]),\n",
        "            nn.ReLU(),\n",
        "            nn.Linear(hidden_dims[1], output_dim)\n",
        "        )\n",
        "    def forward(self, x):\n",
        "        return self.layers(x.type(torch.float32))"
      ],
      "metadata": {
        "id": "037dRO7WU9I0"
      },
      "execution_count": 12,
      "outputs": []
    },
    {
      "cell_type": "code",
      "source": [
        "input_dim = 784\n",
        "hidden_dims = [512, 256]\n",
        "output_dim = np.unique(y_train).shape[0]\n",
        "lr = 0.001\n",
        "epochs = 5"
      ],
      "metadata": {
        "id": "kTac2ivxZ38Z"
      },
      "execution_count": 13,
      "outputs": []
    },
    {
      "cell_type": "code",
      "source": [
        "model = Net(input_dim, hidden_dims, output_dim)"
      ],
      "metadata": {
        "id": "fFnIGA3MVPv_"
      },
      "execution_count": 14,
      "outputs": []
    },
    {
      "cell_type": "code",
      "source": [
        "criterion = nn.CrossEntropyLoss()\n",
        "optimizer = AdamW(params=model.parameters(), lr=lr)"
      ],
      "metadata": {
        "id": "MsXz6zigbTS8"
      },
      "execution_count": 15,
      "outputs": []
    },
    {
      "cell_type": "markdown",
      "source": [
        "## ***Create training process***"
      ],
      "metadata": {
        "id": "XC2W1Ugdv0r-"
      }
    },
    {
      "cell_type": "code",
      "source": [
        "model.train()\n",
        "\n",
        "for epoch in range(epochs):\n",
        "    epoch_loss = []\n",
        "    for batch in train_loader:\n",
        "        X_batch, y_batch = batch\n",
        "        optimizer.zero_grad()\n",
        "        outputs = model(X_batch)\n",
        "        loss = criterion(outputs, y_batch)\n",
        "        loss.backward()\n",
        "        optimizer.step()\n",
        "        epoch_loss.append(loss.item())\n",
        "    print(np.mean(epoch_loss))\n"
      ],
      "metadata": {
        "colab": {
          "base_uri": "https://localhost:8080/"
        },
        "id": "SQio1py0daz2",
        "outputId": "502f7f41-e656-4356-9fd5-b3e8a06ee559"
      },
      "execution_count": 16,
      "outputs": [
        {
          "output_type": "stream",
          "name": "stdout",
          "text": [
            "0.21191879466945926\n",
            "0.0831658780585664\n",
            "0.05835481603598843\n",
            "0.04314167758473098\n",
            "0.03609516215942179\n"
          ]
        }
      ]
    },
    {
      "cell_type": "markdown",
      "source": [
        "## ***Create testing process***"
      ],
      "metadata": {
        "id": "CNf3bDOtv7Sb"
      }
    },
    {
      "cell_type": "code",
      "source": [
        "model.eval()\n",
        "accuracies = []\n",
        "\n",
        "for batch in test_loader:\n",
        "    with torch.no_grad():\n",
        "        out = model(batch[0])\n",
        "    predictions = out.argmax(axis=-1)\n",
        "    accuracies.append(accuracy_score(predictions, batch[1]))\n",
        "\n",
        "print(f'Accuracy = {np.mean(accuracies)}')"
      ],
      "metadata": {
        "colab": {
          "base_uri": "https://localhost:8080/"
        },
        "id": "FHpgmZCoeXfk",
        "outputId": "2b89883d-f02d-4aed-83fd-7b50ccf4cef8"
      },
      "execution_count": 18,
      "outputs": [
        {
          "output_type": "stream",
          "name": "stdout",
          "text": [
            "Accuracy = 0.9785343450479234\n"
          ]
        }
      ]
    }
  ]
}